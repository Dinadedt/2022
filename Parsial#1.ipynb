{
  "cells": [
    {
      "cell_type": "markdown",
      "metadata": {
        "id": "view-in-github",
        "colab_type": "text"
      },
      "source": [
        "<a href=\"https://colab.research.google.com/github/Dinadedt/2022/blob/main/Parsial%231.ipynb\" target=\"_parent\"><img src=\"https://colab.research.google.com/assets/colab-badge.svg\" alt=\"Open In Colab\"/></a>"
      ]
    },
    {
      "cell_type": "markdown",
      "source": [
        "PARSIAL #1"
      ],
      "metadata": {
        "id": "fa9DMQgY07Cc"
      }
    },
    {
      "cell_type": "markdown",
      "source": [
        "1.  Desarrolle un algoritmo en Python que permita obtener los descuentos ISSS, \n",
        "AFP,  I.S.R,  vacaciones,  aguinaldo  etc.  Uno  para  empresas  y  otro  para \n",
        "personas. Favor investigue los datos correspondientes según ley. El usuario \n",
        "deberá ingresar el sueldo y que el sistema le diga el valor neto a pagarle y \n",
        "las deducciones. (30%) "
      ],
      "metadata": {
        "id": "UVGzCbCdy5Dl"
      }
    },
    {
      "cell_type": "markdown",
      "source": [
        "Eje: Si un negocio tiene una actividad económica de $1,875.79 su valor a \n",
        "pagar es: $5.63 \n",
        " \n",
        "Desarrollo: 1875.79 – 1000.01 = 875.78 / 1000 * 3 + 3 = $5.63 \n",
        " \n",
        "Eje 2: Actividad económica $20,000 \n",
        "Desarrollo: 20000 – 18000.01 = 1999.99 / 1000 * 2 + 39 = 42.9999 = $43 \n",
        " "
      ],
      "metadata": {
        "id": "Gp75L_rm2Gt9"
      }
    },
    {
      "cell_type": "code",
      "source": [],
      "metadata": {
        "id": "t6MJhuJW2IjS"
      },
      "execution_count": null,
      "outputs": []
    },
    {
      "cell_type": "code",
      "source": [],
      "metadata": {
        "id": "UifXiI901E5e"
      },
      "execution_count": null,
      "outputs": []
    },
    {
      "cell_type": "code",
      "source": [],
      "metadata": {
        "id": "NIsaWvln1Elj"
      },
      "execution_count": null,
      "outputs": []
    },
    {
      "cell_type": "markdown",
      "source": [
        "2.  Desarrolle  el  conversor  de  Área  (Superficie)  haciendo  uso  de  los \n",
        "diccionarios  y  las  funciones  de  usuario  en  Python  que  contenga  las \n",
        "siguientes opciones: (20%) \n",
        "a.  Pie Cuadrado \n",
        "b.  Vara Cuadrada \n",
        "c.  Yarda Cuadrada \n",
        "d.  Metro Cuadrado \n",
        "e.  Tareas \n",
        "f.  Manzana \n",
        "g.  Hectárea  "
      ],
      "metadata": {
        "id": "irL9RFwT2Qpx"
      }
    },
    {
      "cell_type": "code",
      "source": [],
      "metadata": {
        "id": "Su_XMFOq2kSE"
      },
      "execution_count": null,
      "outputs": []
    },
    {
      "cell_type": "code",
      "source": [],
      "metadata": {
        "id": "py3OjQO42rFF"
      },
      "execution_count": null,
      "outputs": []
    },
    {
      "cell_type": "markdown",
      "source": [
        "3.  Desarrolle un programa en Python que simule a un cajero automático. Haga \n",
        "uso de las estructuras de control. (20%) \n",
        "Eje. Ingrese la cantidad a retirar: 199.89 \n",
        "9 billetes de a 20 "
      ],
      "metadata": {
        "id": "oMVat3222v6o"
      }
    },
    {
      "cell_type": "markdown",
      "source": [
        "1 billete de a 10 \n",
        "1 billete de a 5 \n",
        "4 billetes de a 1 \n",
        "3 monedas de 0.25 ctvs. \n",
        "1 moneda de 0. 1 ctvs. \n",
        "4 monedas de 0.01 ctvs. "
      ],
      "metadata": {
        "id": "Mm_myUI_23_m"
      }
    },
    {
      "cell_type": "code",
      "source": [],
      "metadata": {
        "id": "-w6w5uky2-EL"
      },
      "execution_count": null,
      "outputs": []
    }
  ],
  "metadata": {
    "colab": {
      "collapsed_sections": [],
      "name": "Te damos la bienvenida a Colaboratory",
      "toc_visible": true,
      "provenance": [],
      "include_colab_link": true
    },
    "kernelspec": {
      "display_name": "Python 3",
      "name": "python3"
    }
  },
  "nbformat": 4,
  "nbformat_minor": 0
}