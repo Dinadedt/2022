{
  "cells": [
    {
      "cell_type": "markdown",
      "metadata": {
        "id": "view-in-github",
        "colab_type": "text"
      },
      "source": [
        "<a href=\"https://colab.research.google.com/github/Dinadedt/2022/blob/main/Parsial%231.ipynb\" target=\"_parent\"><img src=\"https://colab.research.google.com/assets/colab-badge.svg\" alt=\"Open In Colab\"/></a>"
      ]
    },
    {
      "cell_type": "markdown",
      "source": [
        "PARSIAL #1"
      ],
      "metadata": {
        "id": "fa9DMQgY07Cc"
      }
    },
    {
      "cell_type": "markdown",
      "source": [
        "1.  Desarrolle un algoritmo en Python que permita obtener los descuentos ISSS, \n",
        "AFP,  I.S.R,  vacaciones,  aguinaldo  etc.  Uno  para  empresas  y  otro  para \n",
        "personas. Favor investigue los datos correspondientes según ley. El usuario \n",
        "deberá ingresar el sueldo y que el sistema le diga el valor neto a pagarle y \n",
        "las deducciones. (30%) "
      ],
      "metadata": {
        "id": "UVGzCbCdy5Dl"
      }
    },
    {
      "cell_type": "code",
      "source": [
        "area ={\n",
        "    \"1\":1.076e+7\n",
        "    ,\n",
        "    \"2\":1.4233\n",
        "    ,\n",
        "    \"3\":1.1196e+6\n",
        "    ,\n",
        "    \"4\":1e+6\n",
        "    ,\n",
        "    \"5\":1590.3307888\n",
        "    ,\n",
        "    \"6\":141.7\n",
        "    ,\n",
        "    \"7\":100\n",
        "    \n",
        "}\n",
        "\n",
        "def covertir(de,a,cantidad):\n",
        "  return area[a]/area[de]*cantidad\n",
        "\n",
        "print(\"***MENU DE CONVERSIONES***\")\n",
        "print(\"1-Pie Cuadrado\")\n",
        "print(\"2-Vara Cuadrada\")\n",
        "print(\"3-Yarda Cuadrada\")\n",
        "print(\"4-Metro Cuadrado\")\n",
        "print(\"5-Tareas\")\n",
        "print(\"6-Manzanas\")\n",
        "print(\"7-Hectareas\\n\")\n",
        "\n",
        "\n",
        "de = input(\"DE:\")\n",
        "a = input(\"A:\")\n",
        "cantidad = float(input(\"Cantidad: \"))\n",
        "\n",
        "print(\"La Conversion es:\", covertir(de,a,cantidad))"
      ],
      "metadata": {
        "id": "2VchveuzXvZe"
      },
      "execution_count": null,
      "outputs": []
    },
    {
      "cell_type": "markdown",
      "source": [
        "2. Eje: Si un negocio tiene una actividad económica de $1,875.79 su valor a \n",
        "pagar es: $5.63 \n",
        " \n",
        "Desarrollo: 1875.79 – 1000.01 = 875.78 / 1000 * 3 + 3 = $5.63 \n",
        " \n",
        "Eje 2: Actividad económica $20,000 \n",
        "Desarrollo: 20000 – 18000.01 = 1999.99 / 1000 * 2 + 39 = 42.9999 = $43 \n",
        " "
      ],
      "metadata": {
        "id": "Gp75L_rm2Gt9"
      }
    },
    {
      "cell_type": "code",
      "source": [
        "actividadE = float(input(\"INGRESE SU ACTIVIDAD ECONOMICA: $\"))\n",
        "\n",
        "if actividadE < 500:\n",
        "  impuesto = (actividadE - 0.1)/1000*0+1.5\n",
        "  print(\"SU IMPUESTO ES DE: $\",impuesto)\n",
        "elif actividadE < 1000:\n",
        "  impr = (actividadE - 500.01)/1000*3+1.5\n",
        "  print(\"SU IMPUESTO ES DE: $\",impr)\n",
        "elif actividadE < 2000:\n",
        "  impr = (actividadE - 1000.01)/1000*3+3\n",
        "  print(\"SU IMPUESTO ES DE: $\",impr)\n",
        "elif actividadE < 3000:\n",
        "  impr = (actividadE - 2000.01)/1000*3+6\n",
        "  print(\"SU IMPUESTO ES DE: $\",impr)\n",
        "elif actividadE < 6000:\n",
        "  impr = (actividadE - 3000.01)/1000*2+9\n",
        "  print(\"SU IMPUESTO ES DE: $\",impr)\n",
        "elif actividadE < 18000:\n",
        "  impr = (actividadE - 8000.01)/1000*2+15\n",
        "  print(\"SU IMPUESTO ES DE: $\",impr)\n",
        "elif actividadE < 30000:\n",
        "  impr = (actividadE - 18000.01)/1000*2+39\n",
        "  print(\"SU IMPUESTO ES DE: $\",impr)\n",
        "elif actividadE < 60000:\n",
        "  impr = (actividadE - 30000.01)/1000*1+63\n",
        "  print(\"SU IMPUESTO ES DE: $\",impr)\n",
        "elif actividadE < 100000:\n",
        "  impr = (actividadE - 60000.01)/1000*0.8+93\n",
        "  print(\"SU IMPUESTO ES DE: $\",impr)\n",
        "elif actividadE < 200000:\n",
        "  impr = (actividadE - 100000.01)/1000*0.7+125\n",
        "  print(\"SU IMPUESTO ES DE: $\",impr)\n",
        "elif actividadE < 300000:\n",
        "  impr = (actividadE - 200000.01)/1000*0.6+195\n",
        "  print(\"SU IMPUESTO ES DE: $\",impr)\n",
        "elif actividadE < 400000:\n",
        "  impr = (actividadE - 300000.01)/1000*0.45+255\n",
        "  print(\"SU IMPUESTO ES DE: $\",impr)\n",
        "elif actividadE < 500000:\n",
        "  impr = (actividadE - 400000.01)/1000*0.4+300\n",
        "  print(\"SU IMPUESTO ES DE: $\",impr)\n",
        "elif actividadE < 1000000:\n",
        "  impr = (actividadE - 500000.01)/1000*0.30+340\n",
        "  print(\"SU IMPUESTO ES DE: $\",impr)\n",
        "elif actividadE < 99999999:\n",
        "  impr = (actividadE - 100000.01)/1000*0.18+490\n",
        "  print(\"SU IMPUESTO ES DE: $\",impr)\n",
        "else:\n",
        "  print(\"INTRODUZCA BIEN LA CANTIDAD\")"
      ],
      "metadata": {
        "id": "NIsaWvln1Elj"
      },
      "execution_count": null,
      "outputs": []
    },
    {
      "cell_type": "markdown",
      "source": [
        "3.  Desarrolle  el  conversor  de  Área  (Superficie)  haciendo  uso  de  los \n",
        "diccionarios  y  las  funciones  de  usuario  en  Python  que  contenga  las \n",
        "siguientes opciones: (20%) \n",
        "a.  Pie Cuadrado \n",
        "b.  Vara Cuadrada \n",
        "c.  Yarda Cuadrada \n",
        "d.  Metro Cuadrado \n",
        "e.  Tareas \n",
        "f.  Manzana \n",
        "g.  Hectárea  "
      ],
      "metadata": {
        "id": "irL9RFwT2Qpx"
      }
    },
    {
      "cell_type": "code",
      "source": [
        "area ={\n",
        "    \"1\":1.076e+7\n",
        "    ,\n",
        "    \"2\":1.4233\n",
        "    ,\n",
        "    \"3\":1.1196e+6\n",
        "    ,\n",
        "    \"4\":1e+6\n",
        "    ,\n",
        "    \"5\":1590.3307888\n",
        "    ,\n",
        "    \"6\":141.7\n",
        "    ,\n",
        "    \"7\":100\n",
        "    \n",
        "}\n",
        "\n",
        "def covertir(de,a,cantidad):\n",
        "  return area[a]/area[de]*cantidad\n",
        "\n",
        "print(\"***MENU DE CONVERSIONES***\")\n",
        "print(\"1-Pie Cuadrado\")\n",
        "print(\"2-Vara Cuadrada\")\n",
        "print(\"3-Yarda Cuadrada\")\n",
        "print(\"4-Metro Cuadrado\")\n",
        "print(\"5-Tareas\")\n",
        "print(\"6-Manzanas\")\n",
        "print(\"7-Hectareas\\n\")\n",
        "\n",
        "\n",
        "de = input(\"DE:\")\n",
        "a = input(\"A:\")\n",
        "cantidad = float(input(\"Cantidad: \"))\n",
        "\n",
        "print(\"La Conversion es:\", covertir(de,a,cantidad))"
      ],
      "metadata": {
        "id": "Su_XMFOq2kSE"
      },
      "execution_count": null,
      "outputs": []
    },
    {
      "cell_type": "markdown",
      "source": [
        "3.  Desarrolle un programa en Python que simule a un cajero automático. Haga \n",
        "uso de las estructuras de control. (20%) \n",
        "Eje. Ingrese la cantidad a retirar: 199.89 \n",
        "9 billetes de a 20 "
      ],
      "metadata": {
        "id": "oMVat3222v6o"
      }
    },
    {
      "cell_type": "markdown",
      "source": [
        "1 billete de a 10 \n",
        "1 billete de a 5 \n",
        "4 billetes de a 1 \n",
        "3 monedas de 0.25 ctvs. \n",
        "1 moneda de 0. 1 ctvs. \n",
        "4 monedas de 0.01 ctvs. "
      ],
      "metadata": {
        "id": "Mm_myUI_23_m"
      }
    },
    {
      "cell_type": "code",
      "source": [],
      "metadata": {
        "id": "-w6w5uky2-EL"
      },
      "execution_count": null,
      "outputs": []
    }
  ],
  "metadata": {
    "colab": {
      "collapsed_sections": [],
      "name": "Te damos la bienvenida a Colaboratory",
      "toc_visible": true,
      "provenance": [],
      "include_colab_link": true
    },
    "kernelspec": {
      "display_name": "Python 3",
      "name": "python3"
    }
  },
  "nbformat": 4,
  "nbformat_minor": 0
}