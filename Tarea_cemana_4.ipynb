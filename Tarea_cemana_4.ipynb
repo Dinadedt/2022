{
  "cells": [
    {
      "cell_type": "markdown",
      "metadata": {
        "id": "view-in-github",
        "colab_type": "text"
      },
      "source": [
        "<a href=\"https://colab.research.google.com/github/Dinadedt/2022/blob/main/Tarea_cemana_4.ipynb\" target=\"_parent\"><img src=\"https://colab.research.google.com/assets/colab-badge.svg\" alt=\"Open In Colab\"/></a>"
      ]
    },
    {
      "cell_type": "markdown",
      "source": [
        "EGERCICIO #1 .\n",
        "Calcular sobre el sueldo las deducciones por ley ISSS (3%), AFP( 6.25%), ISR(Según tabla) e imprima el total deducciones y sueldo neto."
      ],
      "metadata": {
        "id": "3cQnwsVZjTZM"
      }
    },
    {
      "cell_type": "code",
      "source": [
        "sueldo = float(input(\"Ingrese su sueldo: \"))\n",
        "\n",
        "descuentos = [3,6.25,27]\n",
        "\n",
        "\n",
        "\n",
        "isss = (sueldo*descuentos[0])/100\n",
        "\n",
        "afp = (sueldo*descuentos[1])/100\n",
        "\n",
        "isr = (sueldo*descuentos[2])/100\n",
        "\n",
        "totaldeduciones = isss+afp+isr\n",
        "\n",
        "total = sueldo-totaldeduciones\n",
        "\n",
        "print(\"**DEDUCCIONES**\")\n",
        "\n",
        "print(\"ISSS: \",isss)\n",
        "\n",
        "print(\"AFP: \",afp)\n",
        "\n",
        "print(\"ISR: \",isr)\n",
        "\n",
        "print(\"**SUELDO TOTAL**\")\n",
        "\n",
        "print(\"Sueldo Neto: \", total)"
      ],
      "metadata": {
        "id": "_6iLng4IjmSY"
      },
      "execution_count": null,
      "outputs": []
    },
    {
      "cell_type": "markdown",
      "source": [
        "EJERCISIO #2      \n",
        "Calcular el valor a pagar según el número de metros consumidos de agua potable (Ver tabla en la siguiente diapositiva)."
      ],
      "metadata": {
        "id": "L2Egql2Sj2fw"
      }
    },
    {
      "cell_type": "code",
      "source": [
        "consumo = int(input(\"Dijite el valor de consumo del agua:  \"))\n",
        "\n",
        "tarfaFija = 6\n",
        "\n",
        "\n",
        "\n",
        "if consumo <= 18:\n",
        "\n",
        "  print(\"Su Tarifa es: $\",tarfaFija)\n",
        "\n",
        "elif consumo >= 19:\n",
        "\n",
        "  total = (consumo - 18)*0.45+tarfaFija\n",
        "\n",
        "  print(\"Su tarifa es: $\",total)\n",
        "\n",
        "elif consumo >= 29:\n",
        "\n",
        "  total2 = (consumo - 28)*0.65+tarfaFija\n",
        "\n",
        "  print(\"Su tarifa es: $\",total2)\n",
        "\n",
        "else:\n",
        "\n",
        "  print(\"Dijitos no validos\")"
      ],
      "metadata": {
        "id": "iNlsxYqgkRHh"
      },
      "execution_count": null,
      "outputs": []
    },
    {
      "cell_type": "markdown",
      "source": [
        "EJERCICIO # 3\n",
        "Desarrolle la tabla de meses acumulados a n meses. Si puede encontrar la formula matemática para evitar ciclos. \n"
      ],
      "metadata": {
        "id": "Lr7kmMeEklsy"
      }
    },
    {
      "cell_type": "code",
      "source": [
        "def Acumulacion(mes):\n",
        "  d = mes\n",
        "  acumulado = d * (d+1) /2\n",
        "  resultado = acumulado\n",
        "  print(\"**MES** \",d, \"\\d**ACUMULADO** \", resultado)\n",
        " \n",
        "mes = int(input(\"Ingrese los meses a pagar: \"))\n",
        " \n",
        "Acumulacion(mes)"
      ],
      "metadata": {
        "id": "-u60A2rektTu"
      },
      "execution_count": null,
      "outputs": []
    },
    {
      "cell_type": "markdown",
      "source": [
        "EJERCICIO #4 \n",
        "Conversores: (40%) (10 ítems como mínimo por cada uno) • Monedas (Resuelto en clases) • Longitud • Masa • Almacenamiento • Tiempo • Volumen • Área"
      ],
      "metadata": {
        "id": "p5t9Z23xlAMQ"
      }
    },
    {
      "cell_type": "code",
      "source": [
        "def covertir(conversor,de,a,cantidad):\n",
        "  return valores[conversor][a]/valores[conversor][de]*cantidad"
      ],
      "metadata": {
        "id": "Nf0mG3Q3lGW8"
      },
      "execution_count": null,
      "outputs": []
    },
    {
      "cell_type": "code",
      "source": [
        "etiquetas = [\n",
        "[],\n",
        "  [\"Seleccione una divisa\", \"1.dolares\",\"2.quetazles\",\"3.lempiras\",\"4.cordobas\",\"5.pesos cr\",\n",
        "    \"6.euros\",\"7.colon sv\",\"8.yenes\",\"9.soles peruanos\",\"10.pesos colombianos\"],#Divisas\n",
        " \n",
        "  [\"Seleccione una opcion\", \"1.Metros\", \"2.Milimetros\", \"3.Centiemtros\", \"4.pie\",\n",
        "    \"5.Varas\", \"6.Yardas\", \"7.Km\", \"8.Millas\",\"9.Decimentro\",\"10.Nanometro\"],#Longiudes\n",
        " \n",
        "  [\"Seleccione la opcion\", \"1.Gigabyte\", \"2.Megabyte\", \"3.Kilobyte\",\"4.Terabyte\",\"5.Petabyte\",\n",
        "    \"6.Tebibyte\",\"7.Pebibyte\",\"8.Gibibyte\",\"9.Mebibyte\",\"10.Byte\"],#Almacenamiento\n",
        " \n",
        "  [\"Seleccione la opcion\", \"1.Siglo\",\"2.Decada\",\"3.AñoNatural\",\"4.Mes\",\"5.Semana\",\n",
        "    \"6.Dia\",\"7.Hora\",\"8.Minuto\",\"9.Segundo\",\"10.Milisegundo\"],#Tiempo\n",
        " \n",
        "  [\"Seleccione la opcion\", \"1.Tonelada\",\"2.Kilogramo\",\"3.Gramo\",\"4.Centrigramo\",\"5.Miligramo\",\n",
        "    \"6.Microgramo\",\"7.Tonelada Corta\",\"8.Stone\",\"9.Libra\",\"10.Onza\"],#Masa\n",
        " \n",
        "  [\"Seleccione la opcion\", \"1.Metro Cubico\", \"2.Litro\",\"3.Mililitro\",\"4.Galon Imperial\",\"5.Cuarto Imperial\",\n",
        "    \"6.Pinta Imperial\",\"7.Taza Imperial\",\"8.Onza Liquida Imperial\",\"9.Cucharada Imperial\",\"10.Cucharadita Imperial\"],#Volumen\n",
        " \n",
        "  [\"Seleccione la opcion\", \"1.Kilimetro Cuadrado\",\"2.Metro Cuadrado\",\"3.Milla Cuadrada\",\"4.Yarda Cuadrada\",\"5.Pie Cuadrado\",\n",
        "    \"6.Pulgada Cuadrada\",\"7.Hectarea\",\"8.Acre\",\"9.Tareas\",\"10.Manzanas\"]#Area,Manzanas,Tareas\n",
        "]\n",
        " \n",
        "valores = [\n",
        "    [],\n",
        "    [0,1,7.71,24.51,35.77,664.64,0.98,8.71,134.13,3.84,4249.81],#Divisas\n",
        "    [0,1,1000,100, 3.28084,1.120,1.0936133,0.001,0.000621371,10,1000000000],#Longitudes\n",
        "    [0,1,1000, 1000000,1126,1024,9.0949e-13,1.126,1.049e+6,1.074e+9,1.126e+15],#Almacenamiento\n",
        "    [0,1,10,100,1200,5214,36500,876000,5.256e+7,3.154e+9,3.154e+12],#tiempo\n",
        "    [0,1,1000,1e+6,1e+8,1e+9,1e+12,1.102,157.5,22005,35270],#Masa\n",
        "    [0,1,1000,1e+6,220,879.9,1760,3520,35200,56310,168900],#Volumen\n",
        "    [0,1,1e+6,0.3861,1.1196e+6,1.076e+7,1.55e+9,100,247.1,1590.3307888,141.7]#Area,Manzanas,Tareas\n",
        "]"
      ],
      "metadata": {
        "id": "fnoYRV87lVae"
      },
      "execution_count": null,
      "outputs": []
    },
    {
      "cell_type": "code",
      "source": [
        "print(\"**MENU DE CONVERSIONES**\")\n",
        "print(\"1.Divisas\")\n",
        "print(\"2.Longitud\")\n",
        "print(\"3.Almacenamiento\")\n",
        "print(\"4.Tiempo\")\n",
        "print(\"5.Masa\")\n",
        "print(\"6.Volumen\")\n",
        "print(\"7.Area\\n\")\n",
        " \n",
        "opcion = int(input(\"Conversor: \"))\n",
        "print(\"CONVERSOR ELEGIDO: \", etiquetas[opcion])\n",
        "de = int(input(\"DE: \"))\n",
        "a = int(input(\"A: \"))\n",
        "cantidad = int(input(\"Cantidad: \"))\n",
        "print(\"Conversion de \", etiquetas[opcion][de], \" a \", etiquetas[opcion][a], \" equivale a \", covertir(opcion,de,a,cantidad))"
      ],
      "metadata": {
        "id": "9HBdJdEWlYET",
        "outputId": "6d5cb32b-31bc-4c7a-944d-061f5f025ca5",
        "colab": {
          "base_uri": "https://localhost:8080/"
        }
      },
      "execution_count": null,
      "outputs": [
        {
          "metadata": {
            "tags": null
          },
          "name": "stdout",
          "output_type": "stream",
          "text": [
            "**MENU DE CONVERSIONES**\n",
            "1.Divisas\n",
            "2.Longitud\n",
            "3.Almacenamiento\n",
            "4.Tiempo\n",
            "5.Masa\n",
            "6.Volumen\n",
            "7.Area\n",
            "\n"
          ]
        }
      ]
    },
    {
      "cell_type": "markdown",
      "source": [
        "EJERCICIO #5 \n",
        "Realizar un conversor propio, donde espesifique el valor de conversión: (10%) • 1 caja -> 25 unidad. Viceversa 80 unidades – 3/5 -> cajas/unidades • 1 saco -> 50 libras. Viceversa 130 libras – 2/30 -> sacos/libras • 1 fardo -> 5 unidades. Viceversa 28 unidades – 5/3 -> fardos/unidades"
      ],
      "metadata": {
        "id": "y93Jy9PVlkx7"
      }
    },
    {
      "cell_type": "code",
      "source": [
        "def convertir(opcion,de, a, cantidad):\n",
        "\n",
        "  return valor[opcion][a] / valor[opcion][de] * cantidad"
      ],
      "metadata": {
        "id": "7kAYQNURloTI"
      },
      "execution_count": null,
      "outputs": []
    },
    {
      "cell_type": "code",
      "source": [
        "conversor_p = [\n",
        "\n",
        "  [],\n",
        "\n",
        "  [\"seleccione uno a convertir\", \"1. Unidades\",\"2. cajas\"],\n",
        "\n",
        "  [\"Selecione uno a convertir\"\"3. Saco\",\"4. Libra\"],\n",
        "\n",
        "  [\"Seleccione uno a convertir\" \"5. Fardo\", \"2. Unidades\"]\n",
        "\n",
        "]\n",
        "\n",
        "valor = [\n",
        "\n",
        "  [],\n",
        "\n",
        "  [0,1,25],\n",
        "\n",
        "  [0,1,50],\n",
        "\n",
        "  [0,1,5]\n",
        "]"
      ],
      "metadata": {
        "id": "f_F08Yv5luFL"
      },
      "execution_count": null,
      "outputs": []
    },
    {
      "cell_type": "code",
      "source": [
        "print(\"Menu\")\n",
        "print(\"1. CAJAS/UNIUDADES\")\n",
        "print(\"2. SACO/LIBRAS\")\n",
        "print(\"3. FARDO/UNIDADES\")\n",
        "opcion = int(input(\"OPCION: \"))\n",
        "de = int(input(\"DE: \"))\n",
        "a = int(input(\"A:\"))\n",
        "cantidad = float(input(\"cantidad: \"))\n",
        "\n",
        "print(conversor_p[opcion][de], \"a\", valor[opcion][a], \"es:\", convertir(opcion,de,a,cantidad))"
      ],
      "metadata": {
        "id": "2sEPtkZYmNSp"
      },
      "execution_count": null,
      "outputs": []
    }
  ],
  "metadata": {
    "colab": {
      "collapsed_sections": [],
      "name": "Te damos la bienvenida a Colaboratory",
      "toc_visible": true,
      "provenance": [],
      "include_colab_link": true
    },
    "kernelspec": {
      "display_name": "Python 3",
      "name": "python3"
    }
  },
  "nbformat": 4,
  "nbformat_minor": 0
}