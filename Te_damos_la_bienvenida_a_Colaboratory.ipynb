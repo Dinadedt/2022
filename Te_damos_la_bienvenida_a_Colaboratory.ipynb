{
  "cells": [
    {
      "cell_type": "markdown",
      "metadata": {
        "id": "view-in-github",
        "colab_type": "text"
      },
      "source": [
        "<a href=\"https://colab.research.google.com/github/Dinadedt/2022/blob/main/Te_damos_la_bienvenida_a_Colaboratory.ipynb\" target=\"_parent\"><img src=\"https://colab.research.google.com/assets/colab-badge.svg\" alt=\"Open In Colab\"/></a>"
      ]
    },
    {
      "cell_type": "markdown",
      "source": [
        "\n",
        "\n",
        "MI PROYECTO 2D\n"
      ],
      "metadata": {
        "id": "RlKb3HdhTfcC"
      }
    },
    {
      "cell_type": "markdown",
      "source": [
        "CODIGO #1"
      ],
      "metadata": {
        "id": "FmkRE7OpTwEU"
      }
    },
    {
      "cell_type": "code",
      "source": [
        "import cocos\n",
        "\n",
        "class Ver_texto(cocos).layer):\n",
        "  def _init_(self):\n",
        "    super().init_()\n",
        "    mi_etiqueta =cocos.text.labet(\"visualizasion de un texto sinple\",\n",
        "                                  font_name = \"consola\",\n",
        "                                  font_size = 18,\n",
        "                                  anchor_x = \"center\",anchor_y = \"center\")\n",
        "    mi_etiqueta.position = (320,240)\n",
        "    selt.add(mi_etiqueta)\n",
        "\n",
        "in"
      ],
      "metadata": {
        "id": "X-lUeSrPTvGk",
        "outputId": "ba59c080-b3a8-442e-8752-b5a0603dbde0",
        "colab": {
          "base_uri": "https://localhost:8080/",
          "height": 130
        }
      },
      "execution_count": 19,
      "outputs": [
        {
          "output_type": "error",
          "ename": "SyntaxError",
          "evalue": "ignored",
          "traceback": [
            "\u001b[0;36m  File \u001b[0;32m\"<ipython-input-19-c954362bf14d>\"\u001b[0;36m, line \u001b[0;32m3\u001b[0m\n\u001b[0;31m    class Vertexto(COCOS).layer):\u001b[0m\n\u001b[0m                         ^\u001b[0m\n\u001b[0;31mSyntaxError\u001b[0m\u001b[0;31m:\u001b[0m invalid syntax\n"
          ]
        }
      ]
    },
    {
      "cell_type": "code",
      "source": [
        "C\n"
      ],
      "metadata": {
        "id": "wzB3NMKxbtq2"
      },
      "execution_count": null,
      "outputs": []
    }
  ],
  "metadata": {
    "colab": {
      "collapsed_sections": [],
      "name": "Te damos la bienvenida a Colaboratory",
      "toc_visible": true,
      "provenance": [],
      "include_colab_link": true
    },
    "kernelspec": {
      "display_name": "Python 3",
      "name": "python3"
    }
  },
  "nbformat": 4,
  "nbformat_minor": 0
}