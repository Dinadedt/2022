{
  "cells": [
    {
      "cell_type": "markdown",
      "metadata": {
        "id": "view-in-github",
        "colab_type": "text"
      },
      "source": [
        "<a href=\"https://colab.research.google.com/github/Dinadedt/2022/blob/main/Tarea_1_del_conputo_2.ipynb\" target=\"_parent\"><img src=\"https://colab.research.google.com/assets/colab-badge.svg\" alt=\"Open In Colab\"/></a>"
      ]
    },
    {
      "cell_type": "markdown",
      "source": [
        "Laboratorio I - CII"
      ],
      "metadata": {
        "id": "HKvbJkjTP7uM"
      }
    },
    {
      "cell_type": "markdown",
      "source": [
        "Utilizando las librerías obtenga la utilización de tarjetas de crédito: por sexo (cuenta) (20%), total en dólares \n",
        "utilizados diferenciando tarjetas de crédito por ciudad (2 criterios) (20%), total utilizado por tipo de gasto \n",
        "(20%).\n",
        "Genere gráficos (usted elija) de los 3 resultados usando matplotlib (20%)\n",
        "Genere como salida 3 archivos Excel, uno por cada resultado (20%)"
      ],
      "metadata": {
        "id": "jE5sG1d2QqPy"
      }
    },
    {
      "cell_type": "code",
      "source": [
        "#por sexo.\n",
        "import pandas as pd\n",
        "import matplotlib.pyplot as plt"
      ],
      "metadata": {
        "id": "ovb7BdPZPR-p"
      },
      "execution_count": 2,
      "outputs": []
    },
    {
      "cell_type": "code",
      "source": [
        "tarjetas = pd.read_csv(\"/content/trx_tarjetas_credito.csv\",sep=\";\",encoding=\"utf-8\")\n"
      ],
      "metadata": {
        "id": "iF85RF7HRwj4"
      },
      "execution_count": 3,
      "outputs": []
    },
    {
      "cell_type": "code",
      "source": [
        "proceso = pd.crosstab(index=tarjetas[\"Gender\"],columns=\"utilizacion de tarjetas por sexo\")\n",
        "print(proceso)"
      ],
      "metadata": {
        "id": "PPJjWcVdVKg8",
        "outputId": "98247dd0-24bf-45fb-db2a-3bdab0a5e14b",
        "colab": {
          "base_uri": "https://localhost:8080/"
        }
      },
      "execution_count": 4,
      "outputs": [
        {
          "output_type": "stream",
          "name": "stdout",
          "text": [
            "col_0   utilizacion de tarjetas por sexo\n",
            "Gender                                  \n",
            "F                                  13680\n",
            "M                                  12372\n"
          ]
        }
      ]
    },
    {
      "cell_type": "code",
      "source": [
        "#TIPO E TARJETA POR CIUDAD\n",
        "tarjetasPCiudad = pd.crosstab(index=[tarjeta.City.head(23),tarjeta.CardType],columns=\"a\")\n",
        "plt.pie(tarjetasPCiudad,labels=tarjetasPCiudad.index,autopct=\"%0.1f%%\")\n",
        "plt.xlabel(\"topo de tarjeta por ciudad\")\n",
        "plt.show()\n"
      ],
      "metadata": {
        "id": "y-v6ovJNfrCV",
        "outputId": "bd2f086f-3344-4ecd-e4da-6fd28793df96",
        "colab": {
          "base_uri": "https://localhost:8080/",
          "height": 235
        }
      },
      "execution_count": 7,
      "outputs": [
        {
          "output_type": "error",
          "ename": "NameError",
          "evalue": "ignored",
          "traceback": [
            "\u001b[0;31m---------------------------------------------------------------------------\u001b[0m",
            "\u001b[0;31mNameError\u001b[0m                                 Traceback (most recent call last)",
            "\u001b[0;32m<ipython-input-7-2795f3a9e527>\u001b[0m in \u001b[0;36m<module>\u001b[0;34m\u001b[0m\n\u001b[1;32m      1\u001b[0m \u001b[0;31m#TIPO E TARJETA POR CIUDAD\u001b[0m\u001b[0;34m\u001b[0m\u001b[0;34m\u001b[0m\u001b[0;34m\u001b[0m\u001b[0m\n\u001b[0;32m----> 2\u001b[0;31m \u001b[0mtarjetasPCiudad\u001b[0m \u001b[0;34m=\u001b[0m \u001b[0mpd\u001b[0m\u001b[0;34m.\u001b[0m\u001b[0mcrosstab\u001b[0m\u001b[0;34m(\u001b[0m\u001b[0mindex\u001b[0m\u001b[0;34m=\u001b[0m\u001b[0;34m[\u001b[0m\u001b[0mtarjeta\u001b[0m\u001b[0;34m.\u001b[0m\u001b[0mCity\u001b[0m\u001b[0;34m.\u001b[0m\u001b[0mhead\u001b[0m\u001b[0;34m(\u001b[0m\u001b[0;36m23\u001b[0m\u001b[0;34m)\u001b[0m\u001b[0;34m,\u001b[0m\u001b[0mtarjeta\u001b[0m\u001b[0;34m.\u001b[0m\u001b[0mCardType\u001b[0m\u001b[0;34m]\u001b[0m\u001b[0;34m,\u001b[0m\u001b[0mcolumns\u001b[0m\u001b[0;34m=\u001b[0m\u001b[0;34m\"a\"\u001b[0m\u001b[0;34m)\u001b[0m\u001b[0;34m\u001b[0m\u001b[0;34m\u001b[0m\u001b[0m\n\u001b[0m\u001b[1;32m      3\u001b[0m \u001b[0mplt\u001b[0m\u001b[0;34m.\u001b[0m\u001b[0mpie\u001b[0m\u001b[0;34m(\u001b[0m\u001b[0mtarjetasPCiudad\u001b[0m\u001b[0;34m,\u001b[0m\u001b[0mlabels\u001b[0m\u001b[0;34m=\u001b[0m\u001b[0mtarjetasPCiudad\u001b[0m\u001b[0;34m.\u001b[0m\u001b[0mindex\u001b[0m\u001b[0;34m,\u001b[0m\u001b[0mautopct\u001b[0m\u001b[0;34m=\u001b[0m\u001b[0;34m\"%0.1f%%\"\u001b[0m\u001b[0;34m)\u001b[0m\u001b[0;34m\u001b[0m\u001b[0;34m\u001b[0m\u001b[0m\n\u001b[1;32m      4\u001b[0m \u001b[0mplt\u001b[0m\u001b[0;34m.\u001b[0m\u001b[0mxlabel\u001b[0m\u001b[0;34m(\u001b[0m\u001b[0;34m\"topo de tarjeta por ciudad\"\u001b[0m\u001b[0;34m)\u001b[0m\u001b[0;34m\u001b[0m\u001b[0;34m\u001b[0m\u001b[0m\n\u001b[1;32m      5\u001b[0m \u001b[0mplt\u001b[0m\u001b[0;34m.\u001b[0m\u001b[0mshow\u001b[0m\u001b[0;34m(\u001b[0m\u001b[0;34m)\u001b[0m\u001b[0;34m\u001b[0m\u001b[0;34m\u001b[0m\u001b[0m\n",
            "\u001b[0;31mNameError\u001b[0m: name 'tarjeta' is not defined"
          ]
        }
      ]
    }
  ],
  "metadata": {
    "colab": {
      "collapsed_sections": [],
      "name": "Te damos la bienvenida a Colaboratory",
      "provenance": [],
      "include_colab_link": true
    },
    "kernelspec": {
      "display_name": "Python 3",
      "name": "python3"
    }
  },
  "nbformat": 4,
  "nbformat_minor": 0
}