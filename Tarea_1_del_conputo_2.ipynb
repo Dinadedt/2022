{
  "cells": [
    {
      "cell_type": "markdown",
      "metadata": {
        "id": "view-in-github",
        "colab_type": "text"
      },
      "source": [
        "<a href=\"https://colab.research.google.com/github/Dinadedt/2022/blob/main/Tarea_1_del_conputo_2.ipynb\" target=\"_parent\"><img src=\"https://colab.research.google.com/assets/colab-badge.svg\" alt=\"Open In Colab\"/></a>"
      ]
    },
    {
      "cell_type": "markdown",
      "source": [
        "Laboratorio I - CII"
      ],
      "metadata": {
        "id": "HKvbJkjTP7uM"
      }
    },
    {
      "cell_type": "markdown",
      "source": [
        "Utilizando las librerías obtenga la utilización de tarjetas de crédito: por sexo (cuenta) (20%), total en dólares \n",
        "utilizados diferenciando tarjetas de crédito por ciudad (2 criterios) (20%), total utilizado por tipo de gasto \n",
        "(20%).\n",
        "Genere gráficos (usted elija) de los 3 resultados usando matplotlib (20%)\n",
        "Genere como salida 3 archivos Excel, uno por cada resultado (20%)"
      ],
      "metadata": {
        "id": "jE5sG1d2QqPy"
      }
    },
    {
      "cell_type": "code",
      "source": [
        "#por sexo.\n",
        "import pandas as pd\n",
        "import matplotlib.pyplot as plt"
      ],
      "metadata": {
        "id": "ovb7BdPZPR-p"
      },
      "execution_count": 1,
      "outputs": []
    },
    {
      "cell_type": "code",
      "source": [
        "tarjetas = pd.read_csv(\"/content/trx_tarjetas_credito.csv\",sep=\";\",encoding=\"utf-8\")\n"
      ],
      "metadata": {
        "id": "iF85RF7HRwj4"
      },
      "execution_count": 12,
      "outputs": []
    },
    {
      "cell_type": "code",
      "source": [
        "proceso = pd.crosstab(index=tarjetas[\"Gender\"],columns=\"utilizacion de tarjetas por sexo\")\n",
        "print(proceso)"
      ],
      "metadata": {
        "id": "PPJjWcVdVKg8",
        "outputId": "68507d3a-4549-4b7a-bde1-0c2119168539",
        "colab": {
          "base_uri": "https://localhost:8080/"
        }
      },
      "execution_count": 21,
      "outputs": [
        {
          "output_type": "stream",
          "name": "stdout",
          "text": [
            "col_0   utilizacion de tarjetas por sexo\n",
            "Gender                                  \n",
            "F                                  13680\n",
            "M                                  12372\n"
          ]
        }
      ]
    },
    {
      "cell_type": "code",
      "source": [
        "agrupar = tarjetas.groupby([\"Amount\"]).agg({\"count\"}),pd.crosstab(index=tarjetas[\"City\"],columns=\"utilizacion de tarjetas por sexo\")\n",
        "print(agrupar)"
      ],
      "metadata": {
        "id": "isB7NvpOVvGC",
        "outputId": "b7519a64-0700-4ce7-c715-a909a4b1f003",
        "colab": {
          "base_uri": "https://localhost:8080/"
        }
      },
      "execution_count": 28,
      "outputs": [
        {
          "output_type": "stream",
          "name": "stdout",
          "text": [
            "(        City  Date Card Type Exp Type Gender\n",
            "       count count     count    count  count\n",
            "Amount                                      \n",
            "1005       1     1         1        1      1\n",
            "1018       1     1         1        1      1\n",
            "1024       1     1         1        1      1\n",
            "1026       1     1         1        1      1\n",
            "1028       1     1         1        1      1\n",
            "...      ...   ...       ...      ...    ...\n",
            "994537     1     1         1        1      1\n",
            "995634     1     1         1        1      1\n",
            "996291     1     1         1        1      1\n",
            "996754     1     1         1        1      1\n",
            "998077     1     1         1        1      1\n",
            "\n",
            "[24972 rows x 5 columns], col_0             utilizacion de tarjetas por sexo\n",
            "City                                              \n",
            "Achalpur; India                                  9\n",
            "Adilabad; India                                 10\n",
            "Adityapur; India                                 6\n",
            "Adoni; India                                     9\n",
            "Adoor; India                                     7\n",
            "...                                            ...\n",
            "Zaidpur; India                                   5\n",
            "Zamania; India                                   6\n",
            "Zira; India                                      9\n",
            "Zirakpur; India                                  3\n",
            "Zunheboto; India                                 3\n",
            "\n",
            "[986 rows x 1 columns])\n"
          ]
        }
      ]
    },
    {
      "cell_type": "code",
      "source": [],
      "metadata": {
        "id": "Aq4F3BIvdd0Y"
      },
      "execution_count": null,
      "outputs": []
    }
  ],
  "metadata": {
    "colab": {
      "collapsed_sections": [],
      "name": "Te damos la bienvenida a Colaboratory",
      "provenance": [],
      "include_colab_link": true
    },
    "kernelspec": {
      "display_name": "Python 3",
      "name": "python3"
    }
  },
  "nbformat": 4,
  "nbformat_minor": 0
}