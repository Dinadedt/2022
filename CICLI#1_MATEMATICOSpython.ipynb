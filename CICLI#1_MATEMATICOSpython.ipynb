{
  "cells": [
    {
      "cell_type": "markdown",
      "metadata": {
        "id": "view-in-github",
        "colab_type": "text"
      },
      "source": [
        "<a href=\"https://colab.research.google.com/github/Dinadedt/2022/blob/main/CICLI%231_MATEMATICOSpython.ipynb\" target=\"_parent\"><img src=\"https://colab.research.google.com/assets/colab-badge.svg\" alt=\"Open In Colab\"/></a>"
      ]
    },
    {
      "cell_type": "code",
      "source": [
        "print(\"Hola Mundo\", \"Bienvenidos a Programacion Computacional III\")\n"
      ],
      "metadata": {
        "colab": {
          "base_uri": "https://localhost:8080/"
        },
        "id": "aWjm4mOXvSPm",
        "outputId": "1c71c7ef-0089-4efd-cb0c-14e2ed787e5e"
      },
      "execution_count": null,
      "outputs": [
        {
          "output_type": "stream",
          "name": "stdout",
          "text": [
            "Hola Mundo Bienvenidos a Programacion Computacional III\n"
          ]
        }
      ]
    },
    {
      "cell_type": "code",
      "source": [
        "print(\"Luis Hernandez\")"
      ],
      "metadata": {
        "colab": {
          "base_uri": "https://localhost:8080/"
        },
        "id": "ozI8ahgOwyce",
        "outputId": "af0bcd2f-7e06-48dc-9b3b-9ff940cc976c"
      },
      "execution_count": null,
      "outputs": [
        {
          "output_type": "stream",
          "name": "stdout",
          "text": [
            "Luis Hernandez\n"
          ]
        }
      ]
    },
    {
      "cell_type": "code",
      "source": [
        "nombre = \"Luis Hernandez\"\n",
        "print(\"Hola\", nombre, nombre[5], type(nombre))\n",
        "\n",
        "nombre = 25\n",
        "print(\"Tu edad es: \", type(nombre))"
      ],
      "metadata": {
        "colab": {
          "base_uri": "https://localhost:8080/"
        },
        "id": "yhtR2-9uw63G",
        "outputId": "42ed9939-cbcc-45df-ad69-3210394bec43"
      },
      "execution_count": null,
      "outputs": [
        {
          "output_type": "stream",
          "name": "stdout",
          "text": [
            "Hola Luis Hernandez H <class 'str'>\n",
            "Tu edad es:  <class 'int'>\n"
          ]
        }
      ]
    },
    {
      "cell_type": "code",
      "source": [
        "programacion = True\n",
        "diseno = False\n",
        "print(\"Te gusta Progra\", programacion, \"Te gusta diseño\", diseno, type(programacion))"
      ],
      "metadata": {
        "id": "FGPDUnizM612",
        "outputId": "efbb1350-b288-4bfc-d75f-0933b30e8f0e",
        "colab": {
          "base_uri": "https://localhost:8080/"
        }
      },
      "execution_count": null,
      "outputs": [
        {
          "output_type": "stream",
          "name": "stdout",
          "text": [
            "Te gusta Progra True Te gusta diseño False <class 'bool'>\n"
          ]
        }
      ]
    },
    {
      "cell_type": "code",
      "source": [
        "edad = int(input(\"Dime tu edad: \"))\n",
        "if edad>=18: #comparacion da como resultado un valor booleano\n",
        "  print(\"Eres un adulto, tienes responsabilidades...\")\n",
        "else:\n",
        "  print(\"Eres libre\")"
      ],
      "metadata": {
        "id": "d2GyGAOdNW1x",
        "outputId": "34bf72ea-d2b5-461b-c365-1f8bcd09af71",
        "colab": {
          "base_uri": "https://localhost:8080/"
        }
      },
      "execution_count": null,
      "outputs": [
        {
          "output_type": "stream",
          "name": "stdout",
          "text": [
            "Dime tu edad: 25\n",
            "Eres un adulto, tienes responsabilidades...\n"
          ]
        }
      ]
    },
    {
      "cell_type": "code",
      "source": [
        "def sumaDosNumeros(num1, num2):\n",
        "  resp = num1 + num2\n",
        "  return resp\n",
        "print( \"La suma: \", sumaDosNumeros(2,5) )    "
      ],
      "metadata": {
        "id": "H303IZroPdeK",
        "outputId": "d19acdcd-62d5-4ad6-c194-a74799e7cb87",
        "colab": {
          "base_uri": "https://localhost:8080/"
        }
      },
      "execution_count": null,
      "outputs": [
        {
          "output_type": "stream",
          "name": "stdout",
          "text": [
            "La suma:  7\n"
          ]
        }
      ]
    },
    {
      "cell_type": "markdown",
      "source": [],
      "metadata": {
        "id": "9OcRRUaKVts_"
      }
    },
    {
      "cell_type": "code",
      "source": [
        "#funciones anonimas... \n",
        "sumaNumeros = lambda num1, num2: num1 + num2\n",
        "print( \"La suma: \", sumaNumeros(4,6))"
      ],
      "metadata": {
        "id": "VvoERMe8Q6im",
        "outputId": "1f0a698b-2169-41ac-e96c-64cde1b56d93",
        "colab": {
          "base_uri": "https://localhost:8080/"
        }
      },
      "execution_count": null,
      "outputs": [
        {
          "output_type": "stream",
          "name": "stdout",
          "text": [
            "La suma:  10\n"
          ]
        }
      ]
    },
    {
      "cell_type": "code",
      "source": [
        "numeros = [5,4,7,8,-4,-9] #array unidimensional"
      ],
      "metadata": {
        "id": "fj4lVjX1X66u"
      },
      "execution_count": null,
      "outputs": []
    },
    {
      "cell_type": "code",
      "source": [
        "def cuadrado(num):\n",
        "  return num**2"
      ],
      "metadata": {
        "id": "44cMwMXxXnLG"
      },
      "execution_count": null,
      "outputs": []
    },
    {
      "cell_type": "code",
      "source": [
        "def cubo(num):\n",
        "  return num**3"
      ],
      "metadata": {
        "id": "2d8TtecAYGAb"
      },
      "execution_count": null,
      "outputs": []
    },
    {
      "cell_type": "code",
      "source": [
        "def pares(num): #num = 2/2 = 1 == 0\n",
        "  return num%2==0"
      ],
      "metadata": {
        "id": "fziJLSLbaif4"
      },
      "execution_count": null,
      "outputs": []
    },
    {
      "cell_type": "code",
      "source": [
        "def impares(num):\n",
        "  return num%2!=0"
      ],
      "metadata": {
        "id": "WgWbIeQRd1j4"
      },
      "execution_count": null,
      "outputs": []
    },
    {
      "cell_type": "code",
      "source": [
        "numCuadrado = list(map(cuadrado, numeros))\n",
        "numXDos = list( map(lambda num: num*2, numeros) )\n",
        "print(\"Elevar al cuadradola lista: \",numCuadrado, numXDos )"
      ],
      "metadata": {
        "id": "kBtTQ095SLF9",
        "outputId": "fa1c31c9-0033-4c59-ddae-064b1ae60e18",
        "colab": {
          "base_uri": "https://localhost:8080/"
        }
      },
      "execution_count": null,
      "outputs": [
        {
          "output_type": "stream",
          "name": "stdout",
          "text": [
            "Elevar al cuadradola lista:  [25, 16, 49, 64, 16, 81] [10, 8, 14, 16, -8, -18]\n"
          ]
        }
      ]
    },
    {
      "cell_type": "code",
      "source": [
        "numCubo = list( map(cubo, numeros) )\n",
        "print(numCubo)"
      ],
      "metadata": {
        "id": "7xJvl1K-X9n-",
        "outputId": "446d21bb-3f51-43a9-cb9f-2a3244547f03",
        "colab": {
          "base_uri": "https://localhost:8080/"
        }
      },
      "execution_count": null,
      "outputs": [
        {
          "output_type": "stream",
          "name": "stdout",
          "text": [
            "[125, 64, 343, 512, -64, -729]\n"
          ]
        }
      ]
    },
    {
      "cell_type": "code",
      "source": [
        "#usando filter dejamos solo los pares\n",
        "pares = list( filter(pares, numeros) )\n",
        "print(pares)"
      ],
      "metadata": {
        "id": "RDm54a3eaUs4",
        "outputId": "4b94d94c-02b5-46a3-bc95-52f26f948d97",
        "colab": {
          "base_uri": "https://localhost:8080/"
        }
      },
      "execution_count": null,
      "outputs": [
        {
          "output_type": "stream",
          "name": "stdout",
          "text": [
            "[4, 8, -4]\n"
          ]
        }
      ]
    },
    {
      "cell_type": "code",
      "source": [
        "impares = list( filter(impares,numeros) )\n",
        "print(impares)"
      ],
      "metadata": {
        "id": "Y9tFm7zveAVM",
        "outputId": "0fa9b867-baf7-4207-d03d-1cf3beadb704",
        "colab": {
          "base_uri": "https://localhost:8080/"
        }
      },
      "execution_count": null,
      "outputs": [
        {
          "output_type": "stream",
          "name": "stdout",
          "text": [
            "[5, 7, -9]\n"
          ]
        }
      ]
    },
    {
      "cell_type": "code",
      "source": [
        "#conversor de celsius a f\n",
        "def cf(c):\n",
        "  return c*9/5+32"
      ],
      "metadata": {
        "id": "tJ3u4t_vuhRP"
      },
      "execution_count": null,
      "outputs": []
    },
    {
      "cell_type": "code",
      "source": [
        "c = float(input(\"Grados C: \"))\n",
        "print( \"G. C a F\", cf(c))"
      ],
      "metadata": {
        "colab": {
          "base_uri": "https://localhost:8080/"
        },
        "id": "kPZShopEvrus",
        "outputId": "9fe3238f-9627-472f-b37a-42bc9d9f95b6"
      },
      "execution_count": null,
      "outputs": [
        {
          "output_type": "stream",
          "name": "stdout",
          "text": [
            "Grados C: 27\n",
            "G. C a F 80.6\n"
          ]
        }
      ]
    },
    {
      "cell_type": "code",
      "source": [
        "celsius = lambda c: c*9/5 + 32\n",
        "c = int(input(\"Grados Celsius A convertir: \"))\n",
        "\n",
        "print( celsius(c) )"
      ],
      "metadata": {
        "colab": {
          "base_uri": "https://localhost:8080/"
        },
        "id": "vRyoXRJ9yiwg",
        "outputId": "b4fcbf23-45e3-4aa7-b9df-81c7fd6795b7"
      },
      "execution_count": null,
      "outputs": [
        {
          "output_type": "stream",
          "name": "stdout",
          "text": [
            "Grados Celsius A convertir: 27\n",
            "80.6\n"
          ]
        }
      ]
    },
    {
      "cell_type": "code",
      "source": [
        "gradosc = [27,30,35,40,45]\n",
        "grados = lambda c: c*1.8 + 32\n",
        "f = list( map(grados, gradosc) )\n",
        "print(f)"
      ],
      "metadata": {
        "colab": {
          "base_uri": "https://localhost:8080/"
        },
        "id": "ckC9sKJ20fsr",
        "outputId": "93d4ca1c-f236-4671-8cf8-653beba107e0"
      },
      "execution_count": null,
      "outputs": [
        {
          "output_type": "stream",
          "name": "stdout",
          "text": [
            "[80.6, 86.0, 95.0, 104.0, 113.0]\n"
          ]
        }
      ]
    },
    {
      "cell_type": "markdown",
      "source": [
        "**Tarea:** \n",
        "*Hacer un algoritmo en python que convierta de farenheit a celsius*\n",
        "*Hacer un algoritmo en python que convierta de Celsius a Kelvin y viceversa*"
      ],
      "metadata": {
        "id": "18p3opOD6Hko"
      }
    },
    {
      "cell_type": "code",
      "source": [
        "numeros = [5,7,9,6,8,7,3] #, se declara y usa con corchetes"
      ],
      "metadata": {
        "id": "yL2TAhHGO6iK"
      },
      "execution_count": null,
      "outputs": []
    },
    {
      "cell_type": "code",
      "source": [
        "print(\" Lista original \", \" Buscando: \", numeros[numeros.index(3)], numeros[0] )"
      ],
      "metadata": {
        "colab": {
          "base_uri": "https://localhost:8080/"
        },
        "id": "33IxHK9BO7yT",
        "outputId": "4b096938-bb00-457e-9d1c-8d37590e582b"
      },
      "execution_count": null,
      "outputs": [
        {
          "output_type": "stream",
          "name": "stdout",
          "text": [
            " Lista original   Buscando:  3 5\n"
          ]
        }
      ]
    },
    {
      "cell_type": "code",
      "source": [
        "numeros[0] = 4\n",
        "print(\"Nuevo valor: \", numeros[0])"
      ],
      "metadata": {
        "colab": {
          "base_uri": "https://localhost:8080/"
        },
        "id": "2G-MW574R4Fd",
        "outputId": "d165774f-6a76-4bc8-9739-962becb1344f"
      },
      "execution_count": null,
      "outputs": [
        {
          "output_type": "stream",
          "name": "stdout",
          "text": [
            "Nuevo valor:  4\n"
          ]
        }
      ]
    },
    {
      "cell_type": "code",
      "source": [
        "edades = (2,5,12,18,65,100) #Una tupla es inmutable, se declara con parentesis\n",
        "print( \"Las edades: \", edades, edades[0] )"
      ],
      "metadata": {
        "colab": {
          "base_uri": "https://localhost:8080/"
        },
        "id": "n07Q7YVCQVXd",
        "outputId": "d727e39b-95a3-429c-bba6-b003b8abc370"
      },
      "execution_count": null,
      "outputs": [
        {
          "output_type": "stream",
          "name": "stdout",
          "text": [
            "Las edades:  (2, 5, 12, 18, 65, 100) 2\n"
          ]
        }
      ]
    },
    {
      "cell_type": "code",
      "source": [
        "#edades[0] = 0 #NO puedo cambiar su valor, y se usa con corchetes\n",
        "print( \"Nuevo Valor\", edades[0] )"
      ],
      "metadata": {
        "colab": {
          "base_uri": "https://localhost:8080/"
        },
        "id": "SlxJ16qEQy0-",
        "outputId": "a01131c9-ef73-49f1-f255-0ba2213b23cf"
      },
      "execution_count": null,
      "outputs": [
        {
          "output_type": "stream",
          "name": "stdout",
          "text": [
            "Nuevo Valor 2\n"
          ]
        }
      ]
    },
    {
      "cell_type": "markdown",
      "source": [],
      "metadata": {
        "id": "zrnoZo9hyWXx"
      }
    },
    {
      "cell_type": "code",
      "source": [
        "print(\"Edades: \", edades, \"Filtrar solo mayores de edad: \", tuple(filter( lambda num: num>=18, edades )) )"
      ],
      "metadata": {
        "colab": {
          "base_uri": "https://localhost:8080/"
        },
        "id": "PTRDLNZfTZeU",
        "outputId": "f6f7d323-18c5-452c-a79b-99946dd040a9"
      },
      "execution_count": null,
      "outputs": [
        {
          "output_type": "stream",
          "name": "stdout",
          "text": [
            "Edades:  (2, 5, 12, 18, 65, 100) Filtrar solo mayores de edad:  (18, 65, 100)\n"
          ]
        }
      ]
    },
    {
      "cell_type": "code",
      "source": [
        "buscando = int(input(\"Valor: \"))\n",
        "print( \"Edades: \", edades, \"Buscando el numero: \", buscando, \"esta en la posicion: \", edades.index(buscando) )"
      ],
      "metadata": {
        "colab": {
          "base_uri": "https://localhost:8080/"
        },
        "id": "4OupAC83UEpn",
        "outputId": "19863240-3904-47e3-c413-68b2c7e377f2"
      },
      "execution_count": null,
      "outputs": [
        {
          "output_type": "stream",
          "name": "stdout",
          "text": [
            "Valor: 5\n",
            "Edades:  (2, 5, 12, 18, 65, 100) Buscando el numero:  5 esta en la posicion:  1\n"
          ]
        }
      ]
    },
    {
      "cell_type": "code",
      "source": [
        "notas = [5, 4, 10, 7.8, 9]\n",
        "print(\"Mis Notas: \", notas, \"Notas sobresalientes: \", list(filter(lambda n:n>=9, notas)) )"
      ],
      "metadata": {
        "colab": {
          "base_uri": "https://localhost:8080/"
        },
        "id": "7Qkug-TpVK7G",
        "outputId": "ddaff010-396a-44a9-c58a-33d1a50d6f8e"
      },
      "execution_count": null,
      "outputs": [
        {
          "output_type": "stream",
          "name": "stdout",
          "text": [
            "Mis Notas:  [5, 4, 10, 7.8, 9] Notas sobresalientes:  [10, 9]\n"
          ]
        }
      ]
    },
    {
      "cell_type": "code",
      "source": [
        "notasCiclo = [\n",
        "    [5,6,6],\n",
        "    [8,7,10],\n",
        "    [10,10,10]\n",
        "]\n",
        "print( \"Mis Notas\", notasCiclo, \"C1: \", notasCiclo[0], \"C2: \", notasCiclo[1], \"C3: \", notasCiclo[2], \"PC1: \", notasCiclo[0][2] )"
      ],
      "metadata": {
        "colab": {
          "base_uri": "https://localhost:8080/"
        },
        "id": "TioyVwevWFSY",
        "outputId": "020ead19-8b5b-4d43-e73d-3f1f63d9be3d"
      },
      "execution_count": null,
      "outputs": [
        {
          "output_type": "stream",
          "name": "stdout",
          "text": [
            "Mis Notas [[5, 6, 6], [8, 7, 10], [10, 10, 10]] C1:  [5, 6, 6] C2:  [8, 7, 10] C3:  [10, 10, 10] PC1:  6\n"
          ]
        }
      ]
    },
    {
      "cell_type": "code",
      "source": [
        "materias = [\n",
        "    [ #Progra\n",
        "      [5,6,[10,8]],#c1\n",
        "      [5,7,8],#c2\n",
        "      [6,7,6] #c3\n",
        "    ],\n",
        "    [ #Diseño\n",
        "      [10,9,10], #c1\n",
        "      [10,10,8], #c2\n",
        "      [10,10,10] #c3\n",
        "    ],\n",
        "    [ #Redes\n",
        "      [8,7,8], #c1\n",
        "      [7,9.23,9], #c2\n",
        "      [8,7,9]  #c3\n",
        "    ]\n",
        "]\n",
        "print(\"Progra: C1 - P\", (materias[0][0][2][0] + materias[0][0][2][1])/2, \"; Redes C2, Lab2: \", materias[2][1][1] )"
      ],
      "metadata": {
        "colab": {
          "base_uri": "https://localhost:8080/"
        },
        "id": "Tt8dyfWdXaAu",
        "outputId": "0c4b988e-7ce6-4704-c135-ba5fbbdffbfe"
      },
      "execution_count": null,
      "outputs": [
        {
          "output_type": "stream",
          "name": "stdout",
          "text": [
            "Progra: C1 - P 9.0 ; Redes C2, Lab2:  9.23\n"
          ]
        }
      ]
    },
    {
      "cell_type": "code",
      "source": [
        "misMaterias = {} #los diccionarios (json) se definen con llaves y se usan con corchetes\n",
        "misNotas = {\n",
        "    \"Progra I\":{\n",
        "        \"CI\": {\n",
        "            \"Lab1\": 5,\n",
        "            \"Lab2\": 6,\n",
        "            \"Parcial\": [10,8]\n",
        "        },\n",
        "        \"CII\":{\n",
        "            \"Lab1\": 5,\n",
        "            \"Lab2\": 7,\n",
        "            \"Parcial\": 8\n",
        "        },\n",
        "        \"CIII\":{\n",
        "            \"Lab1\":6,\n",
        "            \"Lab2\":7,\n",
        "            \"Parcial\":6\n",
        "        }\n",
        "    },\n",
        "    \"Diseño\":{\n",
        "        \"CI\": {\n",
        "            \"Lab1\": 10,\n",
        "            \"Lab2\": 9,\n",
        "            \"Parcial\": 10\n",
        "        },\n",
        "        \"CII\":{\n",
        "            \"Lab1\": 10,\n",
        "            \"Lab2\": 10,\n",
        "            \"Parcial\": 8\n",
        "        },\n",
        "        \"CIII\":{\n",
        "            \"Lab1\":10,\n",
        "            \"Lab2\":10,\n",
        "            \"Parcial\":10\n",
        "        }\n",
        "    }\n",
        "}\n",
        "print( misNotas[\"Progra I\"][\"CI\"][\"Parcial\"], misNotas[\"Diseño\"][\"CII\"][\"Lab2\"] )"
      ],
      "metadata": {
        "colab": {
          "base_uri": "https://localhost:8080/"
        },
        "id": "py6oXuB8YCAe",
        "outputId": "dd7e1371-1ae2-4a3e-ee77-b942aaf71d8c"
      },
      "execution_count": null,
      "outputs": [
        {
          "output_type": "stream",
          "name": "stdout",
          "text": [
            "[10, 8] 10\n"
          ]
        }
      ]
    },
    {
      "cell_type": "markdown",
      "source": [
        "Conversor de Divisas...\n",
        "Dolares, Quetzalez, Lempiras, Cordobas, Pesos CR, Euros, Colon SV, Yenes, Soles Peruanos"
      ],
      "metadata": {
        "id": "fANKEqXe3hOD"
      }
    },
    {
      "cell_type": "code",
      "source": [
        "divisas = [\"Seleccione una divisa\", \"Dolares\", \n",
        "           \"Quetzalez\", \"Lempiras\", \"Cordobas\", \n",
        "           \"Pesos CR\", \"Euros\", \"Colon SV\", \n",
        "           \"Yenes\", \"Soles Peruanos\"\n",
        "]\n",
        "valores = [0,1, 7.71, 24.51, 35.77, 664.64, 0.98, 8.75, 134.13, 3.84]"
      ],
      "metadata": {
        "id": "131qlW3b3y65"
      },
      "execution_count": null,
      "outputs": []
    },
    {
      "cell_type": "code",
      "source": [
        "def convertir(de, a, cantidad):\n",
        "  return valores[a] / valores[de] * cantidad"
      ],
      "metadata": {
        "id": "u_Ep5-yl7SON"
      },
      "execution_count": null,
      "outputs": []
    },
    {
      "cell_type": "code",
      "source": [
        "print(\"*** MENU ***\")\n",
        "print(\"SELECCIONE UNA DIVISA\")\n",
        "print(\"1. Dolares\")\n",
        "print(\"2. Quetzalez\")\n",
        "print(\"3. Lempiras\")\n",
        "print(\"4. Cordobas\")\n",
        "print(\"5. Pesos CR\")\n",
        "print(\"6. Euros\")\n",
        "print(\"7. Colon SV\")\n",
        "print(\"8. Yenes\")\n",
        "print(\"9. Soles Peruanos\")"
      ],
      "metadata": {
        "id": "VBNk0cwM47ft",
        "outputId": "09b26ec9-b601-4c26-f0bf-b3a4f62f4352",
        "colab": {
          "base_uri": "https://localhost:8080/"
        }
      },
      "execution_count": null,
      "outputs": [
        {
          "output_type": "stream",
          "name": "stdout",
          "text": [
            "*** MENU ***\n",
            "SELECCIONE UNA DIVISA\n",
            "1. Dolares\n",
            "2. Quetzalez\n",
            "3. Lempiras\n",
            "4. Cordobas\n",
            "5. Pesos CR\n",
            "6. Euros\n",
            "7. Colon SV\n",
            "8. Yenes\n",
            "9. Soles Peruanos\n"
          ]
        }
      ]
    },
    {
      "cell_type": "code",
      "source": [
        "de = int(input(\"DE: \"))\n",
        "a = int(input(\"A: \"))\n",
        "cantidad = float(input(\"Cantidad: \"))\n",
        "\n",
        "print( divisas[de],  \" a \", divisas[a], \" es: \", convertir(de, a, cantidad) )"
      ],
      "metadata": {
        "id": "yWMTFImE4vjX",
        "outputId": "5b39b29d-0afd-4e6b-f37e-7c850d264486",
        "colab": {
          "base_uri": "https://localhost:8080/"
        }
      },
      "execution_count": null,
      "outputs": [
        {
          "output_type": "stream",
          "name": "stdout",
          "text": [
            "DE: 6\n",
            "A: 2\n",
            "Cantidad: 10\n",
            "Euros  a  Quetzalez  es:  78.6734693877551\n"
          ]
        }
      ]
    },
    {
      "cell_type": "markdown",
      "source": [
        "**ESTRUCTURAS DE CONTROL**"
      ],
      "metadata": {
        "id": "fTq_xDuTZ6fF"
      }
    },
    {
      "cell_type": "code",
      "source": [
        "#if dondicional si\n",
        "\n",
        "edad = int(input(\"Dime tu edad: \"))\n",
        "if(edad<=2):\n",
        "  print(\"Eres un bebe\")\n",
        "elif(edad<12):\n",
        "  print(\"Edad un niño\")\n",
        "elif (edad<18):\n",
        "  print(\"Eres un adolescente\")\n",
        "elif(edad<65):\n",
        "  print(\"Eres mayor de edad, tienes responsabilidades\")\n",
        "elif(edad<80):\n",
        "  print(\"Eres un adulto mayor\")\n",
        "else:\n",
        "  print(\"Larga vida\")"
      ],
      "metadata": {
        "colab": {
          "base_uri": "https://localhost:8080/"
        },
        "id": "TKbHLsp2Z5LF",
        "outputId": "91f03c7b-ca35-4f86-acd6-85e44699835d"
      },
      "execution_count": null,
      "outputs": [
        {
          "output_type": "stream",
          "name": "stdout",
          "text": [
            "Dime tu edad: 1\n",
            "Eres un bebe\n"
          ]
        }
      ]
    },
    {
      "cell_type": "code",
      "source": [
        "#Ciclos, while y for\n",
        "#obtenga la tabla de multiplicar de x numero dada por el usuario\n",
        "#while\n",
        "ntabla = int(input(\"Tabla: \"))\n",
        "i=1\n",
        "while(i<=10):\n",
        "  print(ntabla, \"X\", i, \"=\", ntabla*i)\n",
        "  i+=1\n"
      ],
      "metadata": {
        "colab": {
          "base_uri": "https://localhost:8080/"
        },
        "id": "3dAIH6SYdSNv",
        "outputId": "120e3b3c-6b83-4904-98c0-d503fa741653"
      },
      "execution_count": null,
      "outputs": [
        {
          "output_type": "stream",
          "name": "stdout",
          "text": [
            "Tabla: 13\n",
            "13 X 1 = 13\n",
            "13 X 2 = 26\n",
            "13 X 3 = 39\n",
            "13 X 4 = 52\n",
            "13 X 5 = 65\n",
            "13 X 6 = 78\n",
            "13 X 7 = 91\n",
            "13 X 8 = 104\n",
            "13 X 9 = 117\n",
            "13 X 10 = 130\n"
          ]
        }
      ]
    },
    {
      "cell_type": "code",
      "source": [
        "ntabla = int(input(\"Tabla: \"))\n",
        "for i in range(1, 11):\n",
        "  print(ntabla, \"X\", i, \"=\", ntabla*i)"
      ],
      "metadata": {
        "colab": {
          "base_uri": "https://localhost:8080/"
        },
        "id": "vpzKBITkeMqz",
        "outputId": "15d6fcd4-4c0f-4b67-e795-18776ca5b861"
      },
      "execution_count": null,
      "outputs": [
        {
          "output_type": "stream",
          "name": "stdout",
          "text": [
            "Tabla: 13\n",
            "13 X 1 = 13\n",
            "13 X 2 = 26\n",
            "13 X 3 = 39\n",
            "13 X 4 = 52\n",
            "13 X 5 = 65\n",
            "13 X 6 = 78\n",
            "13 X 7 = 91\n",
            "13 X 8 = 104\n",
            "13 X 9 = 117\n",
            "13 X 10 = 130\n"
          ]
        }
      ]
    },
    {
      "cell_type": "code",
      "source": [
        "#HAcer un programa en python que genera la tabla de multiplicar dada por el usuario, hasta que el usuario desida salir\n",
        "s=\"s\"\n",
        "while s==\"s\":\n",
        "  ntabla = int(input(\"Tabla: \"))\n",
        "  for i in range(1,11):\n",
        "    print(ntabla, \"X\", i, \"=\", ntabla*i)\n",
        "  s = input(\"Continuar s, cualquier otra tecla para salir \")\n",
        "print(\"Salistes...\")"
      ],
      "metadata": {
        "colab": {
          "base_uri": "https://localhost:8080/"
        },
        "id": "kOjtmLnTf4vD",
        "outputId": "b523d1e2-15a6-417a-c9a1-0e4d57c6237c"
      },
      "execution_count": null,
      "outputs": [
        {
          "output_type": "stream",
          "name": "stdout",
          "text": [
            "Tabla: 5\n",
            "5 X 1 = 5\n",
            "5 X 2 = 10\n",
            "5 X 3 = 15\n",
            "5 X 4 = 20\n",
            "5 X 5 = 25\n",
            "5 X 6 = 30\n",
            "5 X 7 = 35\n",
            "5 X 8 = 40\n",
            "5 X 9 = 45\n",
            "5 X 10 = 50\n",
            "Continuar s, cualquier otra tecla para salir \n",
            "Salistes...\n"
          ]
        }
      ]
    },
    {
      "cell_type": "markdown",
      "source": [
        "TAREA DE LA CEMANA 4"
      ],
      "metadata": {
        "id": "VD8Bj1RcpDuH"
      }
    },
    {
      "cell_type": "markdown",
      "source": [
        "EGERCICIO #1\n",
        ".Calcular sobre el sueldo las deducciones por ley ISSS (3%), AFP( 6.25%), ISR(Según tabla) e imprima el total deducciones y sueldo neto.\n"
      ],
      "metadata": {
        "id": "1LdUj6aOpHjE"
      }
    },
    {
      "cell_type": "code",
      "source": [
        "sueldo = float(input(\"Ingrese su sueldo: \"))\n",
        "\n",
        "descuentos = [3,6.25,27]\n",
        "\n",
        "\n",
        "\n",
        "isss = (sueldo*descuentos[0])/100\n",
        "\n",
        "afp = (sueldo*descuentos[1])/100\n",
        "\n",
        "isr = (sueldo*descuentos[2])/100\n",
        "\n",
        "totaldeduciones = isss+afp+isr\n",
        "\n",
        "total = sueldo-totaldeduciones\n",
        "\n",
        "print(\"**DEDUCCIONES**\")\n",
        "\n",
        "print(\"ISSS: \",isss)\n",
        "\n",
        "print(\"AFP: \",afp)\n",
        "\n",
        "print(\"ISR: \",isr)\n",
        "\n",
        "print(\"**SUELDO TOTAL**\")\n",
        "\n",
        "print(\"Sueldo Neto: \", total)"
      ],
      "metadata": {
        "id": "hoZeap_QpbtG"
      },
      "execution_count": null,
      "outputs": []
    },
    {
      "cell_type": "markdown",
      "source": [
        "EJESISIO #2 Calcular el valor a pagar según el número de metros consumidos de agua potable (Ver tabla en la siguiente diapositiva).\n",
        "\n"
      ],
      "metadata": {
        "id": "JTV0U9lXpje2"
      }
    },
    {
      "cell_type": "code",
      "source": [
        "consumo = int(input(\"Dijite el valor de consumo del agua:  \"))\n",
        "\n",
        "tarfaFija = 6\n",
        "\n",
        "\n",
        "\n",
        "if consumo <= 18:\n",
        "\n",
        "  print(\"Su Tarifa es: $\",tarfaFija)\n",
        "\n",
        "elif consumo >= 19:\n",
        "\n",
        "  total = (consumo - 18)*0.45+tarfaFija\n",
        "\n",
        "  print(\"Su tarifa es: $\",total)\n",
        "\n",
        "elif consumo >= 29:\n",
        "\n",
        "  total2 = (consumo - 28)*0.65+tarfaFija\n",
        "\n",
        "  print(\"Su tarifa es: $\",total2)\n",
        "\n",
        "else:\n",
        "\n",
        "  print(\"Dijitos no validos\")"
      ],
      "metadata": {
        "id": "PjYA_rA9pycB"
      },
      "execution_count": null,
      "outputs": []
    },
    {
      "cell_type": "markdown",
      "source": [
        "EJERCICIO # 3\n",
        "Desarrolle la tabla de meses acumulados a n meses. Si puede encontrar la formula matemática para evitar ciclos. \n"
      ],
      "metadata": {
        "id": "rFleuvlwp7tY"
      }
    },
    {
      "cell_type": "code",
      "source": [
        "def Acumulacion(mes):\n",
        "  n = mes\n",
        "  acumulado = n * (n+1) /2\n",
        "  resultado = acumulado\n",
        "  print(\"**MES** \",n, \"\\n**ACUMULADO** \", resultado)\n",
        " \n",
        "mes = int(input(\"Ingrese los meses a pagar: \"))\n",
        " \n",
        "Acumulacion(mes)"
      ],
      "metadata": {
        "id": "sBrw0c7Qxpjz"
      },
      "execution_count": null,
      "outputs": []
    },
    {
      "cell_type": "markdown",
      "source": [
        "EJERCICIO #4 Conversores: (40%) (10 ítems como mínimo por cada uno)\n",
        "• Monedas (Resuelto en clases)\n",
        "• Longitud\n",
        "• Masa\n",
        "• Almacenamiento\n",
        "• Tiempo\n",
        "• Volumen\n",
        "• Área"
      ],
      "metadata": {
        "id": "LH5cyTVXr0D9"
      }
    },
    {
      "cell_type": "code",
      "source": [
        "def covertir(conversor,de,a,cantidad):\n",
        "  return valores[conversor][a]/valores[conversor][de]*cantidad"
      ],
      "metadata": {
        "id": "9KU86lfv5aL3"
      },
      "execution_count": null,
      "outputs": []
    },
    {
      "cell_type": "code",
      "source": [
        "etiquetas = [\n",
        "[],\n",
        "  [\"Seleccione una divisa\", \"1.dolares\",\"2.quetazles\",\"3.lempiras\",\"4.cordobas\",\"5.pesos cr\",\n",
        "    \"6.euros\",\"7.colon sv\",\"8.yenes\",\"9.soles peruanos\",\"10.pesos colombianos\"],#Divisas\n",
        " \n",
        "  [\"Seleccione una opcion\", \"1.Metros\", \"2.Milimetros\", \"3.Centiemtros\", \"4.pie\",\n",
        "    \"5.Varas\", \"6.Yardas\", \"7.Km\", \"8.Millas\",\"9.Decimentro\",\"10.Nanometro\"],#Longiudes\n",
        " \n",
        "  [\"Seleccione la opcion\", \"1.Gigabyte\", \"2.Megabyte\", \"3.Kilobyte\",\"4.Terabyte\",\"5.Petabyte\",\n",
        "    \"6.Tebibyte\",\"7.Pebibyte\",\"8.Gibibyte\",\"9.Mebibyte\",\"10.Byte\"],#Almacenamiento\n",
        " \n",
        "  [\"Seleccione la opcion\", \"1.Siglo\",\"2.Decada\",\"3.AñoNatural\",\"4.Mes\",\"5.Semana\",\n",
        "    \"6.Dia\",\"7.Hora\",\"8.Minuto\",\"9.Segundo\",\"10.Milisegundo\"],#Tiempo\n",
        " \n",
        "  [\"Seleccione la opcion\", \"1.Tonelada\",\"2.Kilogramo\",\"3.Gramo\",\"4.Centrigramo\",\"5.Miligramo\",\n",
        "    \"6.Microgramo\",\"7.Tonelada Corta\",\"8.Stone\",\"9.Libra\",\"10.Onza\"],#Masa\n",
        " \n",
        "  [\"Seleccione la opcion\", \"1.Metro Cubico\", \"2.Litro\",\"3.Mililitro\",\"4.Galon Imperial\",\"5.Cuarto Imperial\",\n",
        "    \"6.Pinta Imperial\",\"7.Taza Imperial\",\"8.Onza Liquida Imperial\",\"9.Cucharada Imperial\",\"10.Cucharadita Imperial\"],#Volumen\n",
        " \n",
        "  [\"Seleccione la opcion\", \"1.Kilimetro Cuadrado\",\"2.Metro Cuadrado\",\"3.Milla Cuadrada\",\"4.Yarda Cuadrada\",\"5.Pie Cuadrado\",\n",
        "    \"6.Pulgada Cuadrada\",\"7.Hectarea\",\"8.Acre\",\"9.Tareas\",\"10.Manzanas\"]#Area,Manzanas,Tareas\n",
        "]\n",
        " \n",
        "valores = [\n",
        "    [],\n",
        "    [0,1,7.71,24.51,35.77,664.64,0.98,8.71,134.13,3.84,4249.81],#Divisas\n",
        "    [0,1,1000,100, 3.28084,1.120,1.0936133,0.001,0.000621371,10,1000000000],#Longitudes\n",
        "    [0,1,1000, 1000000,1126,1024,9.0949e-13,1.126,1.049e+6,1.074e+9,1.126e+15],#Almacenamiento\n",
        "    [0,1,10,100,1200,5214,36500,876000,5.256e+7,3.154e+9,3.154e+12],#tiempo\n",
        "    [0,1,1000,1e+6,1e+8,1e+9,1e+12,1.102,157.5,22005,35270],#Masa\n",
        "    [0,1,1000,1e+6,220,879.9,1760,3520,35200,56310,168900],#Volumen\n",
        "    [0,1,1e+6,0.3861,1.1196e+6,1.076e+7,1.55e+9,100,247.1,1590.3307888,141.7]#Area,Manzanas,Tareas\n",
        "]"
      ],
      "metadata": {
        "id": "xxSBlSnFw-T8"
      },
      "execution_count": null,
      "outputs": []
    },
    {
      "cell_type": "code",
      "source": [
        "print(\"**MENU DE CONVERSIONES**\")\n",
        "print(\"1.Divisas\")\n",
        "print(\"2.Longitud\")\n",
        "print(\"3.Almacenamiento\")\n",
        "print(\"4.Tiempo\")\n",
        "print(\"5.Masa\")\n",
        "print(\"6.Volumen\")\n",
        "print(\"7.Area\\n\")\n",
        " \n",
        "opcion = int(input(\"Conversor: \"))\n",
        "print(\"CONVERSOR ELEGIDO: \", etiquetas[opcion])\n",
        "de = int(input(\"DE: \"))\n",
        "a = int(input(\"A: \"))\n",
        "cantidad = int(input(\"Cantidad: \"))\n",
        "print(\"Conversion de \", etiquetas[opcion][de], \" a \", etiquetas[opcion][a], \" equivale a \", covertir(opcion,de,a,cantidad))"
      ],
      "metadata": {
        "id": "JJVanIXl5e1i"
      },
      "execution_count": null,
      "outputs": []
    },
    {
      "cell_type": "markdown",
      "source": [
        "EJERCICIO #5 Realizar un conversor propio, donde espesifique el valor de conversión: (10%)\n",
        "• 1 caja -> 25 unidad. Viceversa 80 unidades – 3/5 -> cajas/unidades\n",
        "• 1 saco -> 50 libras. Viceversa 130 libras – 2/30 -> sacos/libras\n",
        "• 1 fardo -> 5 unidades. Viceversa 28 unidades – 5/3 -> fardos/unidades"
      ],
      "metadata": {
        "id": "8C6vjF3OsFIO"
      }
    },
    {
      "cell_type": "code",
      "source": [
        "def convertir(opcion,de, a, cantidad):\n",
        "\n",
        "  return valor[opcion][a] / valor[opcion][de] * cantidad"
      ],
      "metadata": {
        "id": "9cLtLg0HMH6B"
      },
      "execution_count": null,
      "outputs": []
    },
    {
      "cell_type": "code",
      "source": [
        "conversor_p = [\n",
        "\n",
        "  [],\n",
        "\n",
        "  [\"seleccione uno a convertir\", \"1. Unidades\",\"2. cajas\"],\n",
        "\n",
        "  [\"Selecione uno a convertir\"\"3. Saco\",\"4. Libra\"],\n",
        "\n",
        "  [\"Seleccione uno a convertir\" \"5. Fardo\", \"2. Unidades\"]\n",
        "\n",
        "]\n",
        "\n",
        "valor = [\n",
        "\n",
        "  [],\n",
        "\n",
        "  [0,1,25],\n",
        "\n",
        "  [0,1,50],\n",
        "\n",
        "  [0,1,5]\n",
        "\n",
        "]"
      ],
      "metadata": {
        "id": "VMLK7GBMMJed"
      },
      "execution_count": null,
      "outputs": []
    },
    {
      "cell_type": "code",
      "source": [
        "#polimosfismo #pulpo\n",
        "\n",
        "num1 = 5.5\n",
        "num2 = 4\n",
        "print(\"Suma: \", num1 + num2)\n",
        "\n",
        "nombre = \"Luis \"\n",
        "saludo = \"Hola \" + nombre\n",
        "print(saludo)"
      ],
      "metadata": {
        "id": "a8em7JBDsdZ2",
        "outputId": "f5b06f26-1c66-4f8c-97a2-04b54d040673",
        "colab": {
          "base_uri": "https://localhost:8080/"
        }
      },
      "execution_count": null,
      "outputs": [
        {
          "output_type": "stream",
          "name": "stdout",
          "text": [
            "Suma:  9.5\n",
            "Hola Luis \n"
          ]
        }
      ]
    },
    {
      "cell_type": "code",
      "source": [
        "!pip install pandas"
      ],
      "metadata": {
        "id": "x9UeaDXjtwmn",
        "outputId": "30ebb615-6ae4-47a6-c5d0-80c84e252e7a",
        "colab": {
          "base_uri": "https://localhost:8080/"
        }
      },
      "execution_count": null,
      "outputs": [
        {
          "output_type": "stream",
          "name": "stdout",
          "text": [
            "Looking in indexes: https://pypi.org/simple, https://us-python.pkg.dev/colab-wheels/public/simple/\n",
            "Requirement already satisfied: pandas in /usr/local/lib/python3.7/dist-packages (1.3.5)\n",
            "Requirement already satisfied: pytz>=2017.3 in /usr/local/lib/python3.7/dist-packages (from pandas) (2022.2.1)\n",
            "Requirement already satisfied: numpy>=1.17.3 in /usr/local/lib/python3.7/dist-packages (from pandas) (1.21.6)\n",
            "Requirement already satisfied: python-dateutil>=2.7.3 in /usr/local/lib/python3.7/dist-packages (from pandas) (2.8.2)\n",
            "Requirement already satisfied: six>=1.5 in /usr/local/lib/python3.7/dist-packages (from python-dateutil>=2.7.3->pandas) (1.15.0)\n"
          ]
        }
      ]
    },
    {
      "cell_type": "code",
      "source": [
        "#USO del paradigma del Programacion Orientada a Objetos\n",
        "class deducciones:\n",
        "  def __init__(self, sueldo, porcentajeIsss, porcentajeAfp, tablaIsr):\n",
        "    self.sueldo = sueldo\n",
        "    self.porcentajeIsss = porcentajeIsss\n",
        "    self.porcentajeAfp = porcentajeAfp\n",
        "    self.tablaIsr = tablaIsr\n",
        "  \n",
        "  def calcularIsss(self):\n",
        "    return self.sueldo*self.porcentajeIsss/100\n",
        "\n",
        "  def calcularAfp(self):\n",
        "    return self.sueldo*self.porcentajeAfp/100\n",
        "  \n",
        "  def calcularIsr(self):\n",
        "    self.sueldoNeto = self.sueldo - (self.calcularIsss() + self.calcularAfp())\n",
        "    self.isr = 0\n",
        "    for tramo in self.tablaIsr:\n",
        "      if self.sueldoNeto>=tramo[0] and self.sueldoNeto<=tramo[1]:\n",
        "        self.isr = (self.sueldoNeto - tramo[0])*tramo[2]/100 + tramo[3]\n",
        "    return self.isr"
      ],
      "metadata": {
        "id": "9yxNe53psaxy"
      },
      "execution_count": null,
      "outputs": []
    },
    {
      "cell_type": "code",
      "source": [
        "#ISSS\n",
        "porcentajeIsssP = 3 #esta valor puede venir de una base de datos\n",
        "porcentajeIsssE = 7.5\n",
        "#aFP\n",
        "porcentajeAfpP = 6.25\n",
        "porcentajeAfpE = 7.75\n",
        "#ISR\n",
        "tablaIsr = [\n",
        "    [0.01,    472,     0,  0],     #tramo I\n",
        "    [472.01,  895.24,  10, 17.67], #tramo II\n",
        "    [895.25,  2038.10, 20, 60],    #tramo III\n",
        "    [2038.11, 9999999, 30, 288.57] #tramo IV\n",
        "]"
      ],
      "metadata": {
        "id": "bY2BwZg-scG7"
      },
      "execution_count": null,
      "outputs": []
    },
    {
      "cell_type": "code",
      "source": [
        "sueldo = float(input(\"Sueldo: \"))\n",
        "\n",
        "objDp = deducciones(sueldo, porcentajeIsssP, porcentajeAfpP, tablaIsr)\n",
        "objDe = deducciones(sueldo, porcentajeIsssE, porcentajeAfpE, tablaIsr)\n",
        "\n",
        "print(\"ISSS - Personas: \", round(objDp.calcularIsss(),2), \"ISSS - Empresa:\", round(objDe.calcularIsss(),2))\n",
        "print(\"AFP - Personas: \", round(objDp.calcularAfp(),2), \"AFP - Empresa: \", round(objDe.calcularAfp(), 2))\n",
        "print(\"Isr - Personas: \", round(objDp.calcularIsr(),2) )"
      ],
      "metadata": {
        "colab": {
          "base_uri": "https://localhost:8080/"
        },
        "id": "VBmt2UtNsh47",
        "outputId": "2c6e3f54-af95-44c4-a6b6-02432f5ec3d2"
      },
      "execution_count": null,
      "outputs": [
        {
          "output_type": "stream",
          "name": "stdout",
          "text": [
            "Sueldo: 800\n",
            "ISSS - Personas:  24.0 ISSS - Empresa: 60.0\n",
            "AFP - Personas:  50.0 AFP - Empresa:  62.0\n",
            "Isr - Personas:  43.07\n"
          ]
        }
      ]
    },
    {
      "cell_type": "code",
      "source": [
        "#inportar la libreria pandas\n",
        "import pandas as pd  "
      ],
      "metadata": {
        "id": "wfGtDO5R_g9d"
      },
      "execution_count": null,
      "outputs": []
    },
    {
      "cell_type": "code",
      "source": [
        "lenguajes = {\n",
        "    0:\"VB\",\n",
        "    1:\"CV\",\n",
        "    2:\"JAVA\",\n",
        "    3:\"XML\",\n",
        "    4:\"PYTHON\",\n",
        "    5:\"JS\",\n",
        "    6:\"HTML\",\n",
        "    7:\"CSS\",\n",
        "    8:\"PHP\"\n",
        "};\n",
        "pdLenguajes = pd.Series(lenguajes); \n",
        "print(lenguajes, dict(lenguajes));\n",
        "\n",
        "pdLeng = pd.Series([\"VB\", \"CV\", \"JAVA\", \"XML\", \"PYTHON\"], index =[1,2,3,4,5,])\n",
        "print( dict(pdLeng),pdLeng[1])"
      ],
      "metadata": {
        "id": "4klpYx7lCI0H",
        "outputId": "c0365bdc-2c1d-41bd-e868-60915e6d9e52",
        "colab": {
          "base_uri": "https://localhost:8080/"
        }
      },
      "execution_count": null,
      "outputs": [
        {
          "output_type": "stream",
          "name": "stdout",
          "text": [
            "{0: 'VB', 1: 'CV', 2: 'JAVA', 3: 'XML', 4: 'PYTHON', 5: 'JS', 6: 'HTML', 7: 'CSS', 8: 'PHP'} {0: 'VB', 1: 'CV', 2: 'JAVA', 3: 'XML', 4: 'PYTHON', 5: 'JS', 6: 'HTML', 7: 'CSS', 8: 'PHP'}\n",
            "{1: 'VB', 2: 'CV', 3: 'JAVA', 4: 'XML', 5: 'PYTHON'} VB\n"
          ]
        }
      ]
    },
    {
      "cell_type": "code",
      "source": [
        "#ciensias de datos con python y pandas.\n",
        "#Dina Esperanza Gonzales Reyes.\n",
        "Notas = pd.read_csv(\"/content/Notas.csv\",sep=\";\",encoding=\"utf-8\")\n",
        "print(Notas)"
      ],
      "metadata": {
        "id": "0x-JpwED3guA",
        "outputId": "ace0a9ae-a97e-4884-db2d-e038876fdeec",
        "colab": {
          "base_uri": "https://localhost:8080/"
        }
      },
      "execution_count": null,
      "outputs": [
        {
          "output_type": "stream",
          "name": "stdout",
          "text": [
            "           Alumnos   Notas\n",
            "0   Luisa Ernestina      6\n",
            "1       Juana Perez      8\n",
            "2  Maria Del Carmen      9\n",
            "3        Jose Peres     10\n",
            "4    Mario Albarado      9\n",
            "5     Oscar Antonio      4\n",
            "6        Luis Mario      2\n",
            "7        Mrtha Prez      3\n",
            "8        Pedro Juan      5\n",
            "9    Dina Esperanza      9\n"
          ]
        }
      ]
    },
    {
      "cell_type": "code",
      "source": [
        "#ciensias de datos con python y pandas.\n",
        "#Dina Esperanza Gonzales Reyes.\n",
        "Notas = pd.read_csv(\"/content/Notas.csv\",sep=\";\",encoding=\"utf-8\")\n",
        "print(Notas)\n",
        "print(Notas[\"Notas\"])\n"
      ],
      "metadata": {
        "id": "OFXx9-tMV4yn",
        "outputId": "632b8faf-c11b-41ce-9a9d-aa34a7bfd63b",
        "colab": {
          "base_uri": "https://localhost:8080/"
        }
      },
      "execution_count": null,
      "outputs": [
        {
          "output_type": "stream",
          "name": "stdout",
          "text": [
            "           Alumnos   Notas\n",
            "0   Luisa Ernestina      6\n",
            "1       Juana Perez      8\n",
            "2  Maria Del Carmen      9\n",
            "3        Jose Peres     10\n",
            "4    Mario Albarado      9\n",
            "5     Oscar Antonio      4\n",
            "6        Luis Mario      2\n",
            "7        Mrtha Prez      3\n",
            "8        Pedro Juan      5\n",
            "9    Dina Esperanza      9\n",
            "0     6\n",
            "1     8\n",
            "2     9\n",
            "3    10\n",
            "4     9\n",
            "5     4\n",
            "6     2\n",
            "7     3\n",
            "8     5\n",
            "9     9\n",
            "Name: Notas, dtype: int64\n"
          ]
        }
      ]
    },
    {
      "cell_type": "code",
      "source": [
        "proceso = pd.crosstab(index=Notas[\"Notas\"],columns=\"freecuencia\")\n",
        "\n",
        "print(proceso)"
      ],
      "metadata": {
        "id": "w4Liz7PE5EAq",
        "outputId": "b74450e3-e9d5-4ace-dcfd-ea2601e0c2ce",
        "colab": {
          "base_uri": "https://localhost:8080/"
        }
      },
      "execution_count": null,
      "outputs": [
        {
          "output_type": "stream",
          "name": "stdout",
          "text": [
            "col_0  freecuencia\n",
            "Notas             \n",
            "2                1\n",
            "3                1\n",
            "4                1\n",
            "5                1\n",
            "6                1\n",
            "8                1\n",
            "9                3\n",
            "10               1\n"
          ]
        }
      ]
    },
    {
      "cell_type": "code",
      "source": [
        "sobresal = proceso.loc[proceso.index>=9][\"freecuencia\"]\n",
        "\n",
        "#print(sobresal)\n",
        "\n",
        "\n",
        "\n",
        "sobresaliente = Notas.loc[Notas[\"Notas\"]>=9]\n",
        "\n",
        "#print(sobresaliente)\n",
        "\n",
        "\n",
        "\n",
        "estudiantesaprobados = Notas.loc[Notas[\"Notas\"]>=6]\n",
        "\n",
        "print(estudiantesaprobados)\n",
        "\n",
        "\n",
        "\n",
        "estudiantesreprobados = Notas.loc[Notas[\"Notas\"]<6]\n",
        "\n",
        "#print(estudiantesaprobados)"
      ],
      "metadata": {
        "id": "i6dYkIUh86of",
        "outputId": "6a1acf28-a7d4-4b9d-8ce6-cb317d0190b4",
        "colab": {
          "base_uri": "https://localhost:8080/"
        }
      },
      "execution_count": null,
      "outputs": [
        {
          "output_type": "stream",
          "name": "stdout",
          "text": [
            "           Alumnos   Notas\n",
            "0   Luisa Ernestina      6\n",
            "1       Juana Perez      8\n",
            "2  Maria Del Carmen      9\n",
            "3        Jose Peres     10\n",
            "4    Mario Albarado      9\n",
            "9    Dina Esperanza      9\n"
          ]
        }
      ]
    },
    {
      "cell_type": "code",
      "source": [
        "import pandas as pd\n",
        "import matplotlib.pyplot as plt"
      ],
      "metadata": {
        "id": "pc87IPmA-ZhY"
      },
      "execution_count": null,
      "outputs": []
    },
    {
      "cell_type": "code",
      "source": [
        "notas3 = pd.read_csv(\"/content/notas3.csv\",sep=\";\",encoding=\"utf-8\")\n",
        "print (notas3)"
      ],
      "metadata": {
        "id": "m_JofA5NGLLx",
        "outputId": "d255b39d-4d58-48f2-fd7c-2c151621b711",
        "colab": {
          "base_uri": "https://localhost:8080/"
        }
      },
      "execution_count": null,
      "outputs": [
        {
          "output_type": "stream",
          "name": "stdout",
          "text": [
            "            alumno  notas\n",
            "0     Luis Antonio      9\n",
            "1   Carlos Unberto     10\n",
            "2    Dina Gonzalez      8\n",
            "3   Katerin Estela     19\n",
            "4  Maria Delcarmen      4\n",
            "5      carla Maria      2\n",
            "6       Alan Gomes      1\n"
          ]
        }
      ]
    },
    {
      "cell_type": "code",
      "source": [
        "sobresalientes = notas3.loc[notas3[\"notas\"]>=9]\n",
        "print(sobresalientes)                            "
      ],
      "metadata": {
        "id": "R59PjQHIHQmE",
        "outputId": "2cab2e49-a85e-4a4a-dbe6-0ad8c6238454",
        "colab": {
          "base_uri": "https://localhost:8080/"
        }
      },
      "execution_count": null,
      "outputs": [
        {
          "output_type": "stream",
          "name": "stdout",
          "text": [
            "           alumno  notas\n",
            "0    Luis Antonio      9\n",
            "1  Carlos Unberto     10\n",
            "3  Katerin Estela     19\n"
          ]
        }
      ]
    },
    {
      "cell_type": "code",
      "source": [
        "reprobados = notas3.loc[notas3[\"notas\"]<6].agg({\"count\"})\n",
        "print(reprobados)"
      ],
      "metadata": {
        "id": "9xG-icwlIiZM",
        "outputId": "75dd0902-d938-4844-9c54-8305e28bfcb1",
        "colab": {
          "base_uri": "https://localhost:8080/"
        }
      },
      "execution_count": null,
      "outputs": [
        {
          "output_type": "stream",
          "name": "stdout",
          "text": [
            "       alumno  notas\n",
            "count       3      3\n"
          ]
        }
      ]
    },
    {
      "cell_type": "code",
      "source": [
        "agrupar = notas3.groupby([\"notas\"]).agg({\"sum\"})\n",
        "print(agrupar)"
      ],
      "metadata": {
        "id": "NnX8Ug7LKjP2",
        "outputId": "96f9d146-a108-4da9-d9b4-4d6a10393d9b",
        "colab": {
          "base_uri": "https://localhost:8080/"
        }
      },
      "execution_count": null,
      "outputs": [
        {
          "output_type": "stream",
          "name": "stdout",
          "text": [
            "                alumno\n",
            "                   sum\n",
            "notas                 \n",
            "1           Alan Gomes\n",
            "2          carla Maria\n",
            "4      Maria Delcarmen\n",
            "8        Dina Gonzalez\n",
            "9         Luis Antonio\n",
            "10      Carlos Unberto\n",
            "19      Katerin Estela\n"
          ]
        }
      ]
    },
    {
      "cell_type": "code",
      "source": [
        "tabla = pd.crosstab(index=notas3[\"notas\"],columns=\"frecuencia\")\n",
        "plt.pie(tabla, labels=tabla.index)\n",
        "plt.xlabel(\"Estudiantes por notas\")\n",
        "plt.show()"
      ],
      "metadata": {
        "id": "W6lScZhBK9YQ",
        "outputId": "28246f33-67fe-40e7-c4ca-f75b09627c57",
        "colab": {
          "base_uri": "https://localhost:8080/",
          "height": 317
        }
      },
      "execution_count": null,
      "outputs": [
        {
          "output_type": "stream",
          "name": "stderr",
          "text": [
            "/usr/local/lib/python3.7/dist-packages/ipykernel_launcher.py:2: MatplotlibDeprecationWarning: Non-1D inputs to pie() are currently squeeze()d, but this behavior is deprecated since 3.1 and will be removed in 3.3; pass a 1D array instead.\n",
            "  \n"
          ]
        },
        {
          "output_type": "display_data",
          "data": {
            "text/plain": [
              "<Figure size 432x288 with 1 Axes>"
            ],
            "image/png": "[encoded data removed]"
          },
          "metadata": {}
        }
      ]
    },
    {
      "cell_type": "code",
      "source": [
        "tabla.to_csv(\"/content/tabla.csv\",sep=\";\")"
      ],
      "metadata": {
        "id": "gdX0f_zcMeny"
      },
      "execution_count": null,
      "outputs": []
    },
    {
      "cell_type": "markdown",
      "source": [
        "HOLA MUNDO EN TENSORFLOW - IA"
      ],
      "metadata": {
        "id": "S-KuEAky1Z_m"
      }
    },
    {
      "cell_type": "code",
      "source": [
        "import tensorflow as tf\n"
      ],
      "metadata": {
        "id": "D7hIGYnu1OPq"
      },
      "execution_count": 3,
      "outputs": []
    },
    {
      "cell_type": "code",
      "source": [
        "resp = tf.add(3,8).numpy()\n",
        "print(resp)\n"
      ],
      "metadata": {
        "id": "l1NmBwT617vP",
        "outputId": "ca40edf2-626a-4d46-8671-23d1ff6284c7",
        "colab": {
          "base_uri": "https://localhost:8080/"
        }
      },
      "execution_count": 4,
      "outputs": [
        {
          "output_type": "stream",
          "name": "stdout",
          "text": [
            "11\n"
          ]
        }
      ]
    }
  ],
  "metadata": {
    "colab": {
      "collapsed_sections": [],
      "name": "Te damos la bienvenida a Colaboratory",
      "provenance": [],
      "include_colab_link": true
    },
    "kernelspec": {
      "display_name": "Python 3",
      "name": "python3"
    }
  },
  "nbformat": 4,
  "nbformat_minor": 0
}